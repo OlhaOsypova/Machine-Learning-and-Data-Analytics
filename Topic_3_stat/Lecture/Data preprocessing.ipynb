{
 "cells": [
  {
   "cell_type": "markdown",
   "id": "563e44b4",
   "metadata": {},
   "source": [
    "**Препроцесинг (попередня обробка) даних**  — це етап підготовки даних перед тим, як вони будуть використані в алгоритмах машинного навчання або аналітичних моделях. Цей процес полягає в очищенні, трансформації та форматуванні даних для того, щоб вони відповідали вимогам моделей машинного навчання і могли забезпечити точні та надійні результати."
   ]
  },
  {
   "cell_type": "markdown",
   "id": "6a26c8d7",
   "metadata": {},
   "source": [
    "1. Перетворення типів даних у правильний формат.  \n",
    "2. Обробка аномалій та викидів в даних.\n",
    "3. Видалення та аповнення пропусків в даних:  \n",
    "- 3.1. Заповнення пропусків в кількісних змінних.\n",
    "- 3.2. Заповнення пропусків у категоріальних змінних.  \n",
    "4. Перетворення даних:  \n",
    "- 4.1. Перетворення категоріальних змінних у числовий формат для моделей машинного навчання.  \n",
    "- 4.2. Масштабування (шкалювання) кількісних змінних. "
   ]
  },
  {
   "cell_type": "code",
   "execution_count": null,
   "id": "e2ac503e",
   "metadata": {},
   "outputs": [],
   "source": [
    "import pandas as pd\n",
    "\n",
    "# встановимо, що в числах типу float виводити 2 знаки після роздільника\n",
    "pd.options.display.float_format = '{:.2f}'.format\n",
    "\n",
    "\n",
    "df = pd.read_csv('students_survey.csv')\n",
    "df.head()"
   ]
  },
  {
   "cell_type": "markdown",
   "id": "2eddaa8d",
   "metadata": {},
   "source": [
    "Цей датасет представляє собою інформацію, зібрану в рамках опитування студентів технічних спеціальностей. Нижче наведено опис кожного стовпця датасету:  \n",
    "- Age - Вік студента на момент збору даних.  \n",
    "- Grade_level - Рік навчання студента на освітній програмі. Це категоріальне значення, яке може приймати такі значення:  \n",
    "Freshman (перший курс),  \n",
    "Sophomore (другий курс),  \n",
    "Junior (третій курс),  \n",
    "Senior (четвертий курс).  \n",
    "- Study_hours_per_week - Кількість годин, витрачених студентом на навчання протягом тижня. Це кількісне значення з можливими значеннями від 5 до 40 годин.  \n",
    "- Preferred_study_method - Обраний студентом метод навчання, може приймати такі варіанти:  \n",
    "Lecture (лекції),  \n",
    "Practical (практичні заняття),  \n",
    "Self-study (самостійне навчання),  \n",
    "Group-study (групове навчання).  \n",
    "- Absent_days - Кількість днів, протягом яких студент був відсутній на заняттях поточного семестру. Це кількісне значення, що може варіюватися від 0 до 15 днів. \n",
    "- Math_test_score - Середній бал студента з математичних предметів. Це кількісне значення, яке варіюється від 50 до 100 балів.  \n",
    "- Extracurricular_participation - Участь студента в позанавчальних активностях. Це категоріальне значення з можливими варіантами \"Yes\" (так) або \"No\" (ні).  \n",
    "- Preferred_language - Обрана студентом мова програмування для виконання проектних робіт. Можливі варіанти:  \n",
    "Python,  \n",
    "C++,  \n",
    "Java,\n",
    "R.  \n",
    "- Satisfaction_level - Рівень задоволеності студентом навчальними приміщеннями, виражений у відсотках. Це кількісне значення в діапазоні від 50% до 100%.  \n",
    "- Future_plans - Плани студента після закінчення навчання, може містити такі варіанти:  \n",
    "Higher education (продовження навчання),  \n",
    "Employment (працевлаштування),  \n",
    "Freelancing (фріланс),  \n",
    "Undecided (не визначився).  "
   ]
  },
  {
   "cell_type": "code",
   "execution_count": null,
   "id": "fc8134f0",
   "metadata": {
    "scrolled": true
   },
   "outputs": [],
   "source": [
    "df.info()"
   ]
  },
  {
   "cell_type": "markdown",
   "id": "dd170e0a",
   "metadata": {},
   "source": [
    "**Довідково: Що таке кількісні (числові) та категоріальні змінні?  \n",
    "1. Кількісні змінні — це змінні, які приймають числові значення, що виражають кількість або результат вимірювання. Вони використовуються для опису величин, які можна виміряти або порахувати.  \n",
    "2. Категоріальні змінні (часто задаються в датасеті у вигляді тексту) — це змінні, які приймають значення, що належать до певних категорій або груп. Ці значення не можна порахувати або виміряти як кількість, але їх можна класифікувати або розділити на групи.  \n",
    "\n",
    "  **Відмінності між кількісними та категоріальними змінними**\n",
    "| Характеристика   | Кількісні змінні                                  | Категоріальні змінні                             |\n",
    "|------------------|--------------------------------------------------|--------------------------------------------------|\n",
    "| **Тип даних**    | Числові (дискретні або неперервні)               | Категорії (номінальні або порядкові)             |\n",
    "| **Приклад**      | Вік, зарплата, час, кількість студентів          | Стать, рівень освіти, місто проживання           |\n",
    "| **Вимірюваність**| Можна виміряти або порахувати                    | Не можна виміряти, але можна класифікувати       |\n",
    "| **Операції**     | Можна виконувати арифметичні операції (додавання, віднімання) | Можна лише класифікувати або впорядковувати      |\n"
   ]
  },
  {
   "cell_type": "markdown",
   "id": "9cb82839",
   "metadata": {},
   "source": [
    "### 1.Перетворення типів даних у правильний формат.  \n",
    "Іноді при зчитувані даних в датафрейм тип даних в деяких стовпчиках розпізнається некоректно. Наприклад, в даному датафреймі в стовпчику Math_test_score міститься числова інформація, проте Pandas відніс інформацію в цьому стовпчику до типу object, тобто до текстової інформації. Це може трапитися через наявність нечислових символів, таких як відсотки (%), долари ($), або помилково введені літери чи інші символи. В такому випадку варто самостійно задати правильний тип даних для уникнення труднощів в подальшій роботі (наприклад, якщо необхідно визначити середній бал з математики (середне значення стовпчика Math_test_score), то це дуже просто зробити для числових даних, але ми отримаємо помилку, якщо значення цього стовпчика будуть типу object).  \n",
    "  \n",
    "**Пошук нечислових символів в стовпці**  \n",
    "Перш ніж змінити тип даних, потрібно знайти, які саме символи у стовпці роблять його нечисловим.  \n",
    "Для цього можна скористатися методом ```str.contains()``` з регулярними виразами, щоб виявити значення, які містять нечислові символи:  \n",
    "  \n",
    "```df['column_name'][df['column_name'].str.contains(r'[^\\d\\.]', na=False)]```    \n",
    "- [^\\d\\.] шукає будь-які інші символи, які не є цифрами або крапкою.  \n",
    "- na=False — ігнорує значення NaN під час перевірки, щоб уникнути помилок.\n"
   ]
  },
  {
   "cell_type": "code",
   "execution_count": null,
   "id": "7b707539",
   "metadata": {},
   "outputs": [],
   "source": [
    "# Знайдемо всі значення, які містять нечислові символи в стовпці Math_test_score\n",
    "non_numeric_values = df['Math_test_score'][df['Math_test_score'].str.contains(r'[^\\d\\.]', na=False)]\n",
    "print(non_numeric_values)"
   ]
  },
  {
   "cell_type": "markdown",
   "id": "d7e66c6b",
   "metadata": {},
   "source": [
    "**Виправлення помилок та зміна типу даних з текстового на числовий**  \n",
    "1. Метод replace() у Pandas дозволяє змінювати значення в стовпцях датафрейму, замінюючи певні символи, рядки або значення на інші:  \n",
    "```df['column_name'] = df['column_name'].replace({'old_symbol': 'new_symbol'}, regex=True)```  \n",
    "  \n",
    "  regex=True - вказує, що потрібно використовувати регулярні вирази для пошуку символів, які ми хочемо замінити. Регулярні вирази (regex) дозволяють шукати шаблони символів і замінювати їх гнучко та ефективно.  \n",
    "  \n",
    "2. Метод astype() у Pandas використовується для зміни типу даних стовпця:  \n",
    "```df['column_name'] = df['column_name'].astype(float)```"
   ]
  },
  {
   "cell_type": "code",
   "execution_count": null,
   "id": "c676e964",
   "metadata": {},
   "outputs": [],
   "source": [
    "# Заміна символів '%' та коми на порожнє значення та крапку відповідно\n",
    "df['Math_test_score'] = df['Math_test_score'].replace({'%': '', ',': '.'}, regex=True)\n",
    "# Зміна типу даних на float\n",
    "df['Math_test_score'] = df['Math_test_score'].astype(float)"
   ]
  },
  {
   "cell_type": "code",
   "execution_count": null,
   "id": "f1b63219",
   "metadata": {},
   "outputs": [],
   "source": [
    "df.info()"
   ]
  },
  {
   "cell_type": "markdown",
   "id": "0cf1a4c8",
   "metadata": {},
   "source": [
    "### 2. Обробка аномалій та викидів у даних  \n",
    "Аномалії або викиди в даних — це значення, які суттєво відрізняються від решти спостережень. Їх наявність може вплинути на якість аналізу або моделі машинного навчання, оскільки вони можуть спотворити статистику або результати прогнозування. Тому важливо виявити такі аномалії та прийняти рішення щодо їх обробки: видалення або заміни."
   ]
  },
  {
   "cell_type": "markdown",
   "id": "0a9339c9",
   "metadata": {},
   "source": [
    "**Виявлення аномальних значень**  \n",
    "Одним із найпростіших методів для виявлення аномалій — це описова статистика, яка дозволяє отримати базову інформацію про розподіл даних. Для цього використовується метод describe() у Pandas."
   ]
  },
  {
   "cell_type": "code",
   "execution_count": null,
   "id": "c993cf79",
   "metadata": {},
   "outputs": [],
   "source": [
    "df.describe()"
   ]
  },
  {
   "cell_type": "markdown",
   "id": "4cf18c69",
   "metadata": {},
   "source": [
    "** Видалення викидів**  \n",
    "Простим але досить ефективним є метод видалення викидів за допомогою квантилів або ж на основі процентилів:   \n",
    "- Квантилі або процентилі — це значення, що розділяють дані на частини. Наприклад, 5%-й квантиль означає, що 5% даних знаходяться нижче цього значення, а 95%-й квантиль — що 95% даних знаходяться нижче цього значення.  \n",
    "- У цьому методі обчислюється нижній (як правило 5%) та верхній (як правило 95%) квантилі для певної кількісної змінної.  \n",
    "- Після цього дані фільтруються таким чином, щоб залишити лише ті значення, які знаходяться в діапазоні між цими квантилями, тобто між 5%-м і 95%-м процентилями. Це означає, що видаляється 5% найменших і 5% найбільших значень (викидів).  "
   ]
  },
  {
   "cell_type": "code",
   "execution_count": null,
   "id": "d94295ba",
   "metadata": {},
   "outputs": [],
   "source": [
    "import numpy as np\n",
    "# видалимо викиди в стовпчику Age\n",
    "column = 'Age'\n",
    "# Обчислюємо квантилі 5% та 95%\n",
    "lower_bound = df[column].quantile(0.05)\n",
    "upper_bound = df[column].quantile(0.95)\n",
    "\n",
    "# Фільтруємо дані з урахуванням пропусків (NaN)\n",
    "df_cleaned = df[((df[column] >= lower_bound) & (df[column] <= upper_bound)) | (df[column].isna())]\n",
    "\n",
    "# Перевіряємо розмір нового DataFrame після видалення викидів\n",
    "print(f'Кількість рядків після видалення викидів для стовпця {column}: {df_cleaned.shape[0]}')\n",
    "\n",
    "# Виводимо описову статистику, щоб побачити результат\n",
    "df_cleaned.describe()"
   ]
  },
  {
   "cell_type": "markdown",
   "id": "317d18c7",
   "metadata": {},
   "source": [
    "**Примітка** У статистиці, квантиль (або процентиль) визначає точку в наборі даних, нижче якої знаходиться певний відсоток значень. Наприклад, 5% квантиль означає, що 5% даних знаходяться нижче цього значення і це не мінімальне значення у наборі даних, а значення, яке відсікає нижні 5% від всіх значень у вибірці. Мінімальні значення у наборі можуть не бути видаленими, якщо вони знаходяться вище або на рівні 5%-го квантилю. У такому випадку вони не вважаються екстремальними викидами, тому залишаються в даних."
   ]
  },
  {
   "cell_type": "code",
   "execution_count": null,
   "id": "dc145016",
   "metadata": {},
   "outputs": [],
   "source": [
    "#повертаюся до назви датафрейму df\n",
    "df = df_cleaned.copy()\n",
    "df.info()"
   ]
  },
  {
   "cell_type": "markdown",
   "id": "292cc090",
   "metadata": {},
   "source": [
    "### 3. Видалення та заповнення пропусків в даних:  \n",
    " \n",
    "З попередніх лекцій:  \n",
    "**df.dropna()** - видалити рядки, в яких є пропуски  \n",
    "**df.fillna()** - заповнити рядки, в яких є пропуски вказаною інформацією  \n",
    "  \n",
    "**Деякі базові стратегії заповнення пропущених значень:**  \n",
    "- Медіана або середнє значення: Замініть пропущені значення середнім або медіанним значенням стовпця. Застосовується для числових стовпців.    \n",
    "- Мода: Заповнення пропусків найпопулярнішим значенням у стовпці. Зазвичай застосовується до категоріальних стовпців.    \n",
    "- Лінійна інтерполяція: Оцінка пропущених значень на основі відомих значень в стовпчику.  \n",
    "- Прогностичні моделі: Використання моделей машинного навчання для прогнозування пропущених значень на основі інших ознак у наборі даних.\n",
    "\n",
    "<span style=\"color:red\"> **!!!**</span> Кожна стратегія має свої переваги та недоліки, і вибір методу повинен бути спрямований на особливості набору даних та конкретні вимоги аналізу або моделювання. Крім того, важливо врахувати потенційний вплив заповнення на цілісність та вірогідність даних.  \n",
    "<span style=\"color:red\">**!!!**</span> Немає однозначної відповіді на питання про те, який відсоток пропущених значень є прийнятним для заповнення, оскільки це залежить від конкретного дослідження та його вимог. Ви можете провести експерименти з різними відсотками заповнення та оцінити, як це впливає на результати вашого аналізу або моделі."
   ]
  },
  {
   "cell_type": "markdown",
   "id": "43ac1434",
   "metadata": {},
   "source": [
    "Отже, є пропуски в:  \n",
    "- стовпчиках з кількісними даними: **Age, Study_hours_per_week**  \n",
    "- стовпчиках із категоріальними даними: **Grade_level, Preferred_language**   \n",
    "\n",
    "**3.1. Заповнення пропусків в кількісних змінних.**    \n",
    "Спочатку опрацюємо пропуски в числових даних"
   ]
  },
  {
   "cell_type": "code",
   "execution_count": null,
   "id": "a535de3a",
   "metadata": {},
   "outputs": [],
   "source": [
    "# Пропущені дані в стовпчику Age заповнимо медіанними по курсу (Grade_level) значеннями\n",
    "df['Age'] = df['Age'].fillna(df.groupby('Grade_level')['Age'].transform('median'))"
   ]
  },
  {
   "cell_type": "code",
   "execution_count": null,
   "id": "9a5c3703",
   "metadata": {},
   "outputs": [],
   "source": [
    "# Пропущені дані в стовпчику Study_hours_per_week заповнимо медіанними по курсу (Grade_level) значеннями\n",
    "df['Study_hours_per_week'] = df['Study_hours_per_week'].fillna(df.groupby('Grade_level')['Study_hours_per_week'].transform('median'))"
   ]
  },
  {
   "cell_type": "markdown",
   "id": "94140321",
   "metadata": {},
   "source": [
    "**3.2. Заповнення пропусків в категоріальних змінних.**  \n",
    "Далі заповнимо пропуски в категоріальних даних  \n",
    "Є такі поширені стратегії заповнення пропусків в категоріальних даних:  \n",
    "- заповнити значеннями нової категорії (other, not given і т.д.)    \n",
    "- заповнити значеннями найпопулярнішої категорії"
   ]
  },
  {
   "cell_type": "code",
   "execution_count": null,
   "id": "08e1f8d6",
   "metadata": {},
   "outputs": [],
   "source": [
    "# Змінна Grade_level: заповнюємо пропущені значення новою категорією Not given\n",
    "df['Grade_level'] = df['Grade_level'].fillna('Not given')"
   ]
  },
  {
   "cell_type": "code",
   "execution_count": null,
   "id": "c75c32c5",
   "metadata": {},
   "outputs": [],
   "source": [
    "# Змінна Preferred_language: заповнюємо пропуски модою (найпопулярнішою категорією)\n",
    "df['Preferred_language'] = df['Preferred_language'].fillna(df['Preferred_language'].mode()[0])"
   ]
  },
  {
   "cell_type": "code",
   "execution_count": null,
   "id": "b1c22c61",
   "metadata": {},
   "outputs": [],
   "source": [
    "df.info()"
   ]
  },
  {
   "cell_type": "markdown",
   "id": "c4d3a74b",
   "metadata": {},
   "source": [
    "**Коли краще видалити, а не заповнити пропуски в даних?**  \n",
    "- Якщо пропусків менше ніж 5-10%, їх часто можна безпечно заповнити.\n",
    "- Якщо пропусків більше 30-40%, варто серйозно розглянути можливість видалення стовпця.\n",
    "- Видаляйте стовпчики з пропусками, якщо їх важко заповнити логічно (н-клад, пропуски в змінних типу \"Улюблений фільм\" або \"Улюблений колір\" можуть бути складними для заповнення і краще просто видалити стовпчик).  "
   ]
  },
  {
   "cell_type": "code",
   "execution_count": null,
   "id": "f324c700-8fd2-46f3-a96d-982452bfe05e",
   "metadata": {},
   "outputs": [],
   "source": [
    "# видалимо всі значення, які не були заповнені на попередніх етапах\n",
    "df.dropna(inplace=True)"
   ]
  },
  {
   "cell_type": "code",
   "execution_count": null,
   "id": "a65cdfb1-c33b-4ae8-adb2-917645936709",
   "metadata": {},
   "outputs": [],
   "source": [
    "#Перевизначимо індекси рядків після видалення \n",
    "df.reset_index(drop=True, inplace=True)"
   ]
  },
  {
   "cell_type": "code",
   "execution_count": null,
   "id": "154ba71b-d65e-41d8-b226-e22aaf6d1061",
   "metadata": {},
   "outputs": [],
   "source": []
  },
  {
   "cell_type": "markdown",
   "id": "856105e1",
   "metadata": {},
   "source": [
    "### 4. Перетворення даних  \n",
    "Перетворення даних перед застосуванням моделей машинного навчання є важливим етапом препроцесингу, оскільки більшість алгоритмів працюють лише з числовими даними або потребують відшкальованих вхідних ознак. Перетворення даних допомагає покращити інтерпретацію результатів і забезпечити кращу узгодженість та точність прогнозів машинного навчання.  \n",
    "\n",
    "  Для подальшої роботи варто окремо відібрати категоріальні та кількісні змінні:"
   ]
  },
  {
   "cell_type": "code",
   "execution_count": null,
   "id": "5371b26a-2569-4de8-a9e3-be6507085a91",
   "metadata": {},
   "outputs": [],
   "source": [
    "# Вибираємо категоріальні стовпці\n",
    "categorical_columns = df.select_dtypes(include=['object']).columns"
   ]
  },
  {
   "cell_type": "code",
   "execution_count": null,
   "id": "7ac3ef0d-6b79-4ca1-936d-7537a9b28e5b",
   "metadata": {},
   "outputs": [],
   "source": [
    "# Вибираємо кількісні ознаки (числові стовпці)\n",
    "numeric_columns = df.select_dtypes(include=[float, int]).columns"
   ]
  },
  {
   "attachments": {
    "c0829c8d-88de-492f-aab6-e096efccb4bc.png": {
     "image/png": "[encoded data removed]"
    }
   },
   "cell_type": "markdown",
   "id": "e6cd26d5-be25-416f-bc20-e2459736fe2a",
   "metadata": {},
   "source": [
    "#### 4.1. Перетворення категоріальних змінних у числовий формат для моделей машинного навчання.  \n",
    "Більшість алгоритмів машинного навчання працюють лише з числовими даними, тому необхідно перетворювати категоріальні змінні на числові значення.  \n",
    "Розглянемо один із найпоширеніших методів перетворення категоріальних змінних у числовий формат - **One-Hot Encoding**  \n",
    "One-Hot Encoding перетворює кожну категорію на окремий бінарний стовпчик. Для кожного рядка у відповідному стовпчику буде 1, якщо рядок належить до цієї категорії, і 0, якщо ні. \n",
    "Наприклад, для змінної \"Grade_level\" зі значеннями [\"Freshman\", \"Sophomore\", \"Junior\", \"Senior\"], One-Hot Encoding створить такі стовпчики:  \n",
    "![image.png](attachment:c0829c8d-88de-492f-aab6-e096efccb4bc.png)"
   ]
  },
  {
   "cell_type": "code",
   "execution_count": null,
   "id": "ff205d1f",
   "metadata": {},
   "outputs": [],
   "source": [
    "# імпортуємо клас OneHotEncoder з бібліотеки sklearn, який дозволяє перетворювати категоріальні змінні в числові\n",
    "from sklearn.preprocessing import OneHotEncoder\n",
    "\n",
    "# Ініціалізуємо OneHotEncoder\n",
    "encoder = OneHotEncoder(sparse_output=False, drop='first')\n",
    "'''sparse_output=False: Встановлює повернення щільної матриці (звичайний 2D масив), а не розрідженої (спрощує обробку).\n",
    "drop='first': Видаляє перший стовпець для кожної категоріальної змінної, щоб уникнути дублювання інформації. \n",
    "Наприклад, якщо змінна Grade_level має 4 категорії, One-Hot Encoding створить лише три бінарних стовпчики, а не чотири.'''\n",
    "\n",
    "# Застосовуємо OneHotEncoder до категоріальних стовпців\n",
    "encoded_columns = encoder.fit_transform(df[categorical_columns])\n",
    "\n",
    "# Створюємо новий DataFrame з перекодованими змінними і назвами колонок\n",
    "encoded_df = pd.DataFrame(encoded_columns, columns=encoder.get_feature_names_out(categorical_columns))\n",
    "\n",
    "# Об'єднуємо початковий DataFrame з новими перекодованими стовпцями\n",
    "df = df.drop(columns=categorical_columns)  # Видаляємо оригінальні категоріальні стовпці\n",
    "df = pd.concat([df, encoded_df], axis=1)\n",
    "\n",
    "# Перевіряємо результати\n",
    "print(df.head())"
   ]
  },
  {
   "cell_type": "markdown",
   "id": "cd991b58",
   "metadata": {},
   "source": [
    "### 4.2. Масштабування (шкалювання) кількісних змінних.\n",
    "\n",
    "Популярними методами масштабування кількісних змінних є нормалізація та стандартизація, що передбачає перетворення даних, щоб зробити їх більш придатними для моделювання. Ці методи можуть допомогти покращити продуктивність моделі, зменшити вплив викидів і гарантувати, що дані матимуть однаковий масштаб.  \n",
    "   \n",
    "**Чому ми повинні масштабувати ознаки?**\n",
    "\n",
    "Деякі алгоритми машинного навчання чутливі до масштабу ознак, а інші  - практично ні. Наприклад:  \n",
    "**1. Алгоритми на основі градієнтного спуску**\n",
    "Алгоритми машинного навчання, такі як лінійна регресія, логістична регресія, нейронна мережа, PCA (аналіз головних компонентів) тощо, які використовують градієнтний спуск як метод оптимізації, потребують масштабування даних.  \n",
    "**2. Алгоритми на основі відстані**\n",
    "Масштаб ознак найбільше впливає на такі алгоритми, що грунтуються на розрахунку відстаней, як KNN, кластеризація K-середніх і SVM. \n",
    "\n",
    "**3. Алгоритми дерева рішень та випадкового лісу**  \n",
    "Дані алгоритми є досить нечутливими до масштабу ознак.\n",
    "\n",
    "Нормалізувати чи стандартизувати?  \n",
    "  \n",
    "| Нормалізація | Стандартизація |\n",
    "|:-------- |:------- |\n",
    "| Перемасштабує значення до діапазону від 0 до 1 | Центрує дані навколо середнього значення та масштабує до стандартного відхилення 1 |\n",
    "| Чутливий до викидів |Менш чутливий до викидів |\n",
    "| Зберігає форму вихідного розподілу | Змінює форму вихідного розподілу |\n",
    "  \n",
    "  \n",
    "  Головне питання – нормалізувати чи стандартизувати?\n",
    "\n",
    "Однак, немає жорсткого правила, яке б вказувало вам, коли нормалізувати або стандартизувати ваші дані. Ви можете почати з адаптації своєї моделі до необроблених, нормалізованих і стандартизованих даних і порівняти якість побудованих моделей.  "
   ]
  },
  {
   "cell_type": "code",
   "execution_count": null,
   "id": "5a9ae923",
   "metadata": {},
   "outputs": [],
   "source": [
    "#імпортуємо клас StandardScaler з sklearn, який використовується для стандартизації даних\n",
    "from sklearn.preprocessing import StandardScaler\n",
    "\n",
    "# Ініціалізуємо StandardScaler\n",
    "scaler = StandardScaler()\n",
    "\n",
    "# Стандартизуємо кількісні ознаки\n",
    "standardized_columns = scaler.fit_transform(df[numeric_columns])\n",
    "\n",
    "# Перетворюємо стандартизовані дані в DataFrame з відповідними назвами стовпців\n",
    "standardized_df = pd.DataFrame(standardized_columns, columns=numeric_columns, index=df.index)\n",
    "\n",
    "# Видаляємо початкові кількісні ознаки\n",
    "df = df.drop(columns=numeric_columns)\n",
    "\n",
    "# Додаємо стандартизовані ознаки назад до DataFrame\n",
    "df = pd.concat([df, standardized_df], axis=1)\n",
    "\n",
    "# Перевіряємо результат\n",
    "print(df.head())"
   ]
  },
  {
   "cell_type": "code",
   "execution_count": null,
   "id": "5e6a8b7c",
   "metadata": {},
   "outputs": [],
   "source": [
    "df.info()"
   ]
  },
  {
   "cell_type": "code",
   "execution_count": null,
   "id": "38edf300-7995-46bf-8e6a-696004b4f228",
   "metadata": {},
   "outputs": [],
   "source": []
  }
 ],
 "metadata": {
  "kernelspec": {
   "display_name": "Python 3 (ipykernel)",
   "language": "python",
   "name": "python3"
  },
  "language_info": {
   "codemirror_mode": {
    "name": "ipython",
    "version": 3
   },
   "file_extension": ".py",
   "mimetype": "text/x-python",
   "name": "python",
   "nbconvert_exporter": "python",
   "pygments_lexer": "ipython3",
   "version": "3.12.4"
  }
 },
 "nbformat": 4,
 "nbformat_minor": 5
}
