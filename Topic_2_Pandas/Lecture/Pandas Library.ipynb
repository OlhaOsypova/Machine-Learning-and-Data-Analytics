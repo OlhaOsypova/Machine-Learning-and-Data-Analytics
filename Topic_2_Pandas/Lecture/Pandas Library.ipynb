{
 "cells": [
  {
   "cell_type": "markdown",
   "metadata": {},
   "source": [
    "# Бібліотека Pandas  \n",
    "- 1. Зчитування файлів CSV та Excel  \n",
    "- 2. Коротка інформація про датафрейм  \n",
    "- 3. Перейменувння стовпців  \n",
    "- 4. Видалення рядків та стовпців датафрейму  \n",
    "- 5. Заповнення/видалення пропущених значень  \n",
    "- 6. Звернення до елементів датафрейму, отримання зрізу  \n",
    "- 7. Вибір рядків за заданими умовами  \n",
    "- 8. Запис датафрейму в файл\n",
    "\n",
    "\n",
    "**Pandas** – це бібліотека, яка надає дуже зручні з точки зору використання інструменти для зберігання даних та роботи з ними.\n",
    "Особливість pandas полягає в тому, що ця бібліотека швидка, гнучка та проста у використанні. Pandas чудово підходить для роботи з одновимірними та двовимірними таблицями даних, добре пристосована для роботи  з файлами CSV, таблицями Excel.   \n",
    "\n",
    "  \n",
    "  \n",
    " \n",
    "- _Датафрейм (Dataframe) – це двовимірна структура даних зі стовпцями та рядками. Це спеціальний аналог таблиці Excel або SQL._ "
   ]
  },
  {
   "cell_type": "code",
   "execution_count": null,
   "metadata": {},
   "outputs": [],
   "source": [
    "# імпортуємо бібліотеку Pandas\n",
    "import pandas as pd"
   ]
  },
  {
   "cell_type": "code",
   "execution_count": null,
   "metadata": {},
   "outputs": [],
   "source": [
    "# встановимо, що в числах типу float виводити 3 знаки після роздільника (додаткова опція, яку можна не застосовувати)\n",
    "pd.options.display.float_format = '{:.3f}'.format"
   ]
  },
  {
   "cell_type": "markdown",
   "metadata": {},
   "source": [
    "### 1. Зчитування файлів CSV та Excel\n",
    "#### csv:  \n",
    "name_data_frame = pd.read_csv('path_to_file.csv')  \n",
    "#### excel:  \n",
    "name_data_frame = pd.read_excel('path_to_file.xlsx')  \n",
    "якщо необхідно зчитати конкретний аркуш в листі Excel:  \n",
    "name_data_frame = pd.read_excel('path_to_file.xlsx', sheet_name = 'Лист 1')  \n",
    "  \n",
    "- 1.1. Якщо файл з початковими даними зберігається локально, то щоб уникнути запису повного шляху до файлу, можна тримати робочий файл і файл з даними в одній папці. Тоді достатньо буде вказати тільки назву файлу з даними та його розширення.  \n",
    "<font color='red'>Додатково: Якщо ви працюєте в Google Colab, то зчитати файл, що зберігається локально можна так:</font>\n",
    "\n",
    "```from google.colab import files```  \n",
    "```uploaded = files.upload()```"
   ]
  },
  {
   "cell_type": "code",
   "execution_count": null,
   "metadata": {
    "scrolled": true
   },
   "outputs": [],
   "source": [
    "# зчитування файлу, що зберігається локально\n",
    "\n",
    "# якщо необхідно, вказати тип розділювача sep= (за замовчанням sep=',' )\n",
    "df = pd.read_csv('DE_1.csv', sep=';')\n",
    "df # щоб відобразити датафрейм, необхідно надрукувати його назву"
   ]
  },
  {
   "cell_type": "markdown",
   "metadata": {},
   "source": [
    "- 1.2. Якщо файл з початковими даними розміщено на GitHub:  \n",
    "А. Перейдіть на сторінку файлу на GitHub.  \n",
    "B. Натисніть на кнопку \"Raw\", щоб відкрити файл у сирому вигляді.  \n",
    "C. Скопіюйте URL із адресного рядка браузера.  \n",
    "D. Завантажте файл у Jupyter Notebook"
   ]
  },
  {
   "cell_type": "code",
   "execution_count": null,
   "metadata": {},
   "outputs": [],
   "source": [
    "url = 'https://raw.githubusercontent.com/OlhaOsypova/Machine-Learning-and-Data-Analytics/main/Topic_2_Pandas/DE_1.csv'\n",
    "df = pd.read_csv(url, sep=';')\n",
    "df"
   ]
  },
  {
   "cell_type": "markdown",
   "metadata": {},
   "source": [
    "### Опис датафрейму df  \n",
    "Датафрейм містить набір показників, що характеризують рівень розвитку цифрової економіки в 37 країнах:  \n",
    "- Unnamed: 0 - назва країни  \n",
    "- Index digital economy - індекс розвитку цифрової економіки  \n",
    "- Internet use: interaction with public authorities (last 12 months) - частка звернень до органів влади, здійснена через мережу Інтернет  \n",
    "- Individuals who have high overall digital skills' - частка населення, що володіє цифровими навичками на високому рівні  \n",
    "- частка витрат уряду на розвиток адміністративних послуг, % до заг витрат  \n",
    "- частка працівників, що проходять підвищення кваліфікації у сфері ікт  \n",
    "- EU/NonEU - країна входить/не входить до ЄС  \n",
    "- Unnamed: 7, Unnamed: 8, Unnamed: 9, Unnamed: 10, Unnamed: 11 - ???"
   ]
  },
  {
   "cell_type": "markdown",
   "metadata": {},
   "source": [
    "### 2. Коротка інформація про датафрейм  \n",
    "**довідка:** при застосуванні атрибутів та методів дотримуємося т.з. крапкового синтаксису:  \n",
    "**name_of_dataframe.name_of_atribute**  \n",
    "**name_of_dataframe.name_of_method()**"
   ]
  },
  {
   "cell_type": "code",
   "execution_count": null,
   "metadata": {},
   "outputs": [],
   "source": [
    "# Розмір датафрейму\n",
    "df.shape"
   ]
  },
  {
   "cell_type": "code",
   "execution_count": null,
   "metadata": {},
   "outputs": [],
   "source": [
    "#Отримуємо перелік назв стовпців\n",
    "df.columns"
   ]
  },
  {
   "cell_type": "code",
   "execution_count": null,
   "metadata": {},
   "outputs": [],
   "source": [
    "#Отримуємо перелік назв рядків\n",
    "df.index"
   ]
  },
  {
   "cell_type": "code",
   "execution_count": null,
   "metadata": {},
   "outputs": [],
   "source": [
    "# Отримуємо перелік типів даних для кожного стовпчика\n",
    "# тип інформації в кожному стовпчику (int64, float64 - числа; object - текст)\n",
    "df.dtypes"
   ]
  },
  {
   "cell_type": "code",
   "execution_count": null,
   "metadata": {},
   "outputs": [],
   "source": [
    "# Коротка довідка про датафрейм\n",
    "# Column - назва стовпця\n",
    "# Non-Null Count - кількість заповнених значень для кожного стовпця\n",
    "# Dtype - тип інформації в кожному стовпці (int64, float64 - числа; object - текст)\n",
    "df.info()"
   ]
  },
  {
   "cell_type": "code",
   "execution_count": null,
   "metadata": {},
   "outputs": [],
   "source": [
    "# Відображаємо перші (за замовчанням 5) значень\n",
    "df.head()"
   ]
  },
  {
   "cell_type": "code",
   "execution_count": null,
   "metadata": {},
   "outputs": [],
   "source": [
    "# Відображаємо випадкові (за замовчанням 5) значень\n",
    "df.sample(4)"
   ]
  },
  {
   "cell_type": "code",
   "execution_count": null,
   "metadata": {},
   "outputs": [],
   "source": [
    "# Відображаємо останні (за замовчанням 5) значень\n",
    "df.tail(3)"
   ]
  },
  {
   "cell_type": "markdown",
   "metadata": {},
   "source": [
    "#### Метод describe() у бібліотеці pandas використовується для отримання основної описової статистики  \n",
    "Для числових стовпців виодить наступну інформацію:  \n",
    "- count: Кількість непорожніх (non-null) значень у кожному стовпці.  \n",
    "- mean: Середнє арифметичне значення для кожного числового стовпця.  \n",
    "- std: Стандартне відхилення, що показує розсіювання даних навколо середнього значення.  \n",
    "- min: Мінімальне значення в кожному стовпці.  \n",
    "- 25%: 25-й перцентиль (перша чверть), тобто значення, нижче якого знаходиться 25% даних.  \n",
    "- 50%: 50-й перцентиль, або медіана, тобто значення, нижче якого знаходиться 50% даних.  \n",
    "- 75%: 75-й перцентиль (третя чверть), тобто значення, нижче якого знаходиться 75% даних.  \n",
    "- max: Максимальне значення в кожному стовпці."
   ]
  },
  {
   "cell_type": "code",
   "execution_count": null,
   "metadata": {},
   "outputs": [],
   "source": [
    "# Основна описова статистика даних в таблиці\n",
    "df.describe()"
   ]
  },
  {
   "cell_type": "markdown",
   "metadata": {},
   "source": [
    "Якщо describe() викликається на DataFrame, що містить категоріальні дані (текстові або категорійні стовпці), він виведе іншу статистику:  \n",
    "- count: Кількість непорожніх значень.  \n",
    "- unique: Кількість унікальних значень.  \n",
    "- top: категорія, яка зустрічається найчастіше (мода).  \n",
    "- freq: частота, з якою зустрічається найпопулярніша категорія."
   ]
  },
  {
   "cell_type": "code",
   "execution_count": null,
   "metadata": {},
   "outputs": [],
   "source": [
    "# Описова статистика для категоріальних змінних: в якості аргументу передати include=[object]\n",
    "df.describe(include=[object])"
   ]
  },
  {
   "cell_type": "markdown",
   "metadata": {},
   "source": [
    "### 3. Перейменування стовпців  \n",
    "Перейменувати стовпці можна двома способами.    \n",
    "\n",
    "3.1 Перший метод-це метод **rename()**, який використовується для перейменування будь-якого стовпця або декількох стовпців.  \n",
    "Як аргумент методу rename передаємо словник:  \n",
    "**columns = {'стара назва': 'нова назва'}**  \n",
    "  \n",
    "  **inplace=True - початковий фрейм даних оновлено**  \n",
    "   **inplace=False - початковий фрейм даних не змінюється, результат відображається в копії датафрейму (за замовчуванням inplace=False)**"
   ]
  },
  {
   "cell_type": "code",
   "execution_count": null,
   "metadata": {},
   "outputs": [],
   "source": [
    "#Отримуємо перелік назв стовпців\n",
    "df.columns"
   ]
  },
  {
   "cell_type": "code",
   "execution_count": null,
   "metadata": {},
   "outputs": [],
   "source": [
    "# Перейменовуємо перших дві колонки\n",
    "df.rename(columns={'Unnamed: 0': 'Country', \n",
    "                   'Index digital economy': 'DE_index'\n",
    "                   }, inplace=True)\n",
    "df.head()"
   ]
  },
  {
   "cell_type": "markdown",
   "metadata": {},
   "source": [
    "3.2 Другий метод. Використання **df.columns=[list_of_names]**  \n",
    "\n",
    "Обмеження цього методу полягає в тому, що якщо один стовпець повинен бути змінений, то повинен бути переданий повний список стовпців.  \n",
    "**Для стабільності і прогнозованої роботи з DataFrame всі назви стовпців рекомендується задавати як рядки (strings)**"
   ]
  },
  {
   "cell_type": "code",
   "execution_count": null,
   "metadata": {
    "scrolled": true
   },
   "outputs": [],
   "source": [
    "df.columns = ['Country', 'DE_index', 'Users', 'Skills', 'Gov_exp', 'Workers', 'EU/NonEU', '8', '9', '10', '11', '12']\n",
    "df.head()"
   ]
  },
  {
   "cell_type": "markdown",
   "metadata": {},
   "source": [
    "### 4. Видалення рядків та стовпців  \n",
    "#### 4.1 Видалення рядків  \n",
    "**df.drop([list of row names], axis = 0, inplace=True)**    \n",
    "axis = 0 - параметр означає, що ми видаляємо рядки   \n",
    "  \n",
    "  **Приклад**  \n",
    "  видалити рядки з назвами 2,4,6 - df.drop([2, 4, 6], axis=0, inplace=True)"
   ]
  },
  {
   "cell_type": "code",
   "execution_count": null,
   "metadata": {},
   "outputs": [],
   "source": [
    "# Видалимо рядок з назвою 25\n",
    "df.drop([2, 4, 6], axis=0, inplace=True)\n",
    "df"
   ]
  },
  {
   "cell_type": "markdown",
   "metadata": {},
   "source": [
    "#### 4.2 Видалення стовпців  \n",
    "**df.drop([list of column names], axis = 1, inplace=True)**    \n",
    "axis = 1 - параметр означає, що ми видаляємо стовпчики"
   ]
  },
  {
   "cell_type": "code",
   "execution_count": null,
   "metadata": {},
   "outputs": [],
   "source": [
    "# Видалимо останніх 5 стовпчиків\n",
    "df.drop(['8', '9', '10', '11', '12'], axis=1, inplace=True)\n",
    "df.head()"
   ]
  },
  {
   "cell_type": "markdown",
   "metadata": {},
   "source": [
    "### 5. Заповнення/видалення пропущенних значень"
   ]
  },
  {
   "cell_type": "code",
   "execution_count": null,
   "metadata": {},
   "outputs": [],
   "source": [
    "df.info()"
   ]
  },
  {
   "cell_type": "code",
   "execution_count": null,
   "metadata": {},
   "outputs": [],
   "source": [
    "# Можна використати такий підхід для визначення кількості NaN елементів:\n",
    "df.isnull().sum()"
   ]
  },
  {
   "cell_type": "markdown",
   "metadata": {},
   "source": [
    "### 5.1 Видалення рядків із пропусками  \n",
    "**df.dropna()**  \n",
    "df.dropna(how='any', inplace=True) - видалити всі рядки, в яких є пропуски  \n",
    "df.dropna(thresh=N, inplace=True) - залишити рядки, в яких принаймні N значень є заповненими, решту рядків - видалити"
   ]
  },
  {
   "cell_type": "code",
   "execution_count": null,
   "metadata": {},
   "outputs": [],
   "source": [
    "# thresh=4 - залишити рядки, в яких мінімум 4 заповнених значення, решту рядків - видалити\n",
    "df.dropna(thresh=4, inplace=True)\n",
    "df"
   ]
  },
  {
   "cell_type": "markdown",
   "metadata": {},
   "source": [
    "### 5.2 Заповнення пропущених значень  \n",
    "#### df.fillna()  \n",
    "Метод fillna() замінює пропущене значення на вказане значення.  Наприклад:  \n",
    "- df.mean() - середнє значення  \n",
    "- df.median() - медіана  \n",
    "- 0 - значення 0"
   ]
  },
  {
   "cell_type": "code",
   "execution_count": null,
   "metadata": {},
   "outputs": [],
   "source": [
    "#Заповнення пропущених значень середніми по совпчиках значеннями\n",
    "df.fillna(df.mean(numeric_only=True), inplace=True)"
   ]
  },
  {
   "cell_type": "code",
   "execution_count": null,
   "metadata": {},
   "outputs": [],
   "source": [
    "df.info()"
   ]
  },
  {
   "cell_type": "markdown",
   "metadata": {},
   "source": [
    "## 6. Звернення до елементів датафрейму, отримання зрізів  \n",
    "#### 6.1 Звернення до стовпців датафрейму  \n",
    "name_of_dataframe[[list_of_columns]]"
   ]
  },
  {
   "cell_type": "code",
   "execution_count": null,
   "metadata": {},
   "outputs": [],
   "source": [
    "# Звернення до конкретного стовпця\n",
    "#Елементи стовпчика 'Users':\n",
    "df[['Users']]\n",
    "#df.Users #альтернативний варіант"
   ]
  },
  {
   "cell_type": "code",
   "execution_count": null,
   "metadata": {},
   "outputs": [],
   "source": [
    "# Звернення до кількох стовпців\n",
    "df[['DE_index','Users']]"
   ]
  },
  {
   "cell_type": "markdown",
   "metadata": {},
   "source": [
    "### 6.2 Отримання зрізів. Методи loc та iloc  \n",
    "**loc** отримує у якості аргументів <font color='red'>імена (мітки) </font> рядків та стовпців.  \n",
    "loc включає крайні значення діапазону:  \n",
    "**name_of_dataframe.loc[мітки рядків, мітки стовпців]**  \n",
    "\n",
    "\n",
    "**iloc** отримує <font color='red'>індекси рядків та стовпців (тому він приймає тільки цілі числа)</font>  \n",
    ".iloc не включає крайні значення діапазону:  \n",
    "**name_of_dataframe.iloc[індекси рядків, індекси стовпців]**"
   ]
  },
  {
   "cell_type": "code",
   "execution_count": null,
   "metadata": {},
   "outputs": [],
   "source": [
    "df\n",
    "#Назви (мітки) стовпчиків: 'Country' 'DE_index' 'Users' 'Skills' 'Gov_exp' 'Workers' 'EU/NonEU'\n",
    "#Назви (мітки) рядків: 0 1 3 5 7 8 9 10 і т.д.\n",
    "#Індекси стовпчиків: 0 1 2 3 4 5 6\n",
    "#Індекси рядків: 0 1 2 3 4 5 6 7 8 9 і т.д."
   ]
  },
  {
   "cell_type": "code",
   "execution_count": null,
   "metadata": {},
   "outputs": [],
   "source": [
    "# lOC\n",
    "# вивести інф., що міститься в 2-му та 3-му рядках стовпців Users та EU/NonEU\n",
    "df.loc[[1, 3], ['Users', 'EU/NonEU']]"
   ]
  },
  {
   "cell_type": "code",
   "execution_count": null,
   "metadata": {},
   "outputs": [],
   "source": [
    "# ILOC\n",
    "# вивести інф., що міститься в 2-му та 3-му рядках стовпців Users та EU/NonEU\n",
    "df.iloc[[1, 2], [2, 6]]"
   ]
  },
  {
   "cell_type": "markdown",
   "metadata": {},
   "source": [
    "#### Зріз (записується як початок: кінець) — техніка, яка дозволяє вибирати діапазон даних. Це дуже корисно, коли ми хочемо вибрати все, що знаходиться між двома елементами A та B (метод .loc - В включно, метод .iloc - В невключно):  \n",
    "- А:В - всі елементи від А до В   \n",
    "- :В - від 1-го елементу до В  \n",
    "- А: - від А до останнього елементу"
   ]
  },
  {
   "cell_type": "code",
   "execution_count": null,
   "metadata": {},
   "outputs": [],
   "source": [
    "# LOC\n",
    "# перші 8 рядків стовпців Users та Workers\n",
    "df.loc[:10, ['Users', 'Workers']]"
   ]
  },
  {
   "cell_type": "code",
   "execution_count": null,
   "metadata": {},
   "outputs": [],
   "source": [
    "# ILOC\n",
    "# перші 8 рядків стовпців Users та Workers\n",
    "df.iloc[:8, [2, 5]]"
   ]
  },
  {
   "cell_type": "code",
   "execution_count": null,
   "metadata": {},
   "outputs": [],
   "source": [
    "# LOC\n",
    "# вибрати рядки з мітками від 5 до 10 стовпців Users та Workers\n",
    "df.loc[5:10, ['Users', 'Workers']]"
   ]
  },
  {
   "cell_type": "code",
   "execution_count": null,
   "metadata": {},
   "outputs": [],
   "source": [
    "# ILOC\n",
    "# вибрати рядки з індексами від 5 до 10 стовпців Users та Workers\n",
    "df.iloc[5:11, [2, 5]]"
   ]
  },
  {
   "cell_type": "code",
   "execution_count": null,
   "metadata": {},
   "outputs": [],
   "source": [
    "# LOC\n",
    "# вибрати рядки з мітками від 5 до 10 і стовпці від Users до Workers\n",
    "df.loc[5:10, 'Users':'Workers']"
   ]
  },
  {
   "cell_type": "code",
   "execution_count": null,
   "metadata": {
    "scrolled": true
   },
   "outputs": [],
   "source": [
    "# ILOC\n",
    "# вибрати рядки з індексами від 5 до 10 і стовпці від Users до Workers\n",
    "df.iloc[5:11, 2:6]"
   ]
  },
  {
   "cell_type": "markdown",
   "metadata": {},
   "source": [
    "## 7. Вибір рядків за заданими умовами\n",
    "\n",
    "### 7.1. Вибір за категоріальною ознакою (наприклад, вибрати всі країни, що не входять до ЄС)\n",
    "Конструкція **df['EU/NonEU'] == 'NonEU'** - це наша умова;   \n",
    "обернувши цю умову в датафрейм, ми доручаємо бібліотеці pandas \"вибрати всі рядки у нашому фреймі, де значення 'EU/NonEU' дорівнює 'NonEU'."
   ]
  },
  {
   "cell_type": "code",
   "execution_count": null,
   "metadata": {},
   "outputs": [],
   "source": [
    "df[df['EU/NonEU'] == 'NonEU']"
   ]
  },
  {
   "cell_type": "markdown",
   "metadata": {},
   "source": [
    "### 7.2.Вибір за кількісною ознакою (наприклад, вибрати всі країни, в яких значення \"DE_index\" вище 70)  \n",
    "умова: df['DE_index'] > 70"
   ]
  },
  {
   "cell_type": "code",
   "execution_count": null,
   "metadata": {},
   "outputs": [],
   "source": [
    "df[df['DE_index'] > 70]"
   ]
  },
  {
   "cell_type": "code",
   "execution_count": null,
   "metadata": {},
   "outputs": [],
   "source": [
    "# Вибрати країни зі значенням DE_index > 70 та показати тільки стовпчики Country та DE_index\n",
    "# використаємо ф-ю .loc\n",
    "#.loc[діапазон рядків,   діапазон стовпчиків]\n",
    "# діапазон рядків: df['DE_index'] > 70\n",
    "# діапазон стовпчиків: ['Country', 'DE_index']\n",
    "df.loc[df['DE_index'] > 70, ['Country', 'DE_index']]"
   ]
  },
  {
   "cell_type": "markdown",
   "metadata": {},
   "source": [
    "### 7.3 Вибір за 2-ма та більше умовами  \n",
    "Наприклад: Вибрати країни-учасниці ЄС, що мають індекс розвитку цифрової економіки вище 70  \n",
    "#### При роботі з pandas необхідно використовувати:  \n",
    "- символ & для логічного оператора AND   \n",
    "- символ | для логічного оператора OR  \n",
    "#### Кожну умову необхідно заключати в ():  \n",
    "**df[(умова 1) & (умова 2)]**"
   ]
  },
  {
   "cell_type": "code",
   "execution_count": null,
   "metadata": {},
   "outputs": [],
   "source": [
    "#Вибрати країни-учасниці ЄС, що мають індекс розвитку цифрової економіки вище 70:  \n",
    "#Умова 1: (df['EU/NonEU'] == 'EU')  \n",
    "#Умова 2: (df['DE_index'] > 70)\n",
    "\n",
    "#Вивести тільки назви країн та величину даного індексу\n",
    "\n",
    "#Скористаємося методом .loc[діапазон рядків,   діапазон стовпчиків]\n",
    "# діапазон рядків: (df['EU/NonEU'] == 'EU') & (df['DE_index'] > 70)\n",
    "# діапазон стовпчиків: ['Country', 'DE_index']\n",
    "df.loc[(df['EU/NonEU'] == 'EU') & (df['DE_index'] > 70), ['Country', 'DE_index']]"
   ]
  },
  {
   "cell_type": "code",
   "execution_count": null,
   "metadata": {},
   "outputs": [],
   "source": [
    "# Можна зберегти отриманий зріз в новий датафрейм, присвоївши йому нове ім'я df_new\n",
    "df_new = df.loc[(df['EU/NonEU'] == 'EU') & (df['DE_index'] > 70), ['Country', 'DE_index']]\n",
    "df_new"
   ]
  },
  {
   "cell_type": "markdown",
   "metadata": {},
   "source": [
    "## 8. Запис датафрейму в файл  \n",
    "Коли ви внесли всі необхідні зміни у датафрейм, ви можете зберегти остаточну версію датафрейму у файл:  \n",
    "- df.to_csv('path_to_file.csv', index=0) **для формату csv**  \n",
    "- df.to_excel('path_to_file.xlsx', index=0) **для формату excel**  \n",
    "  \n",
    "  Якщо ви встановлюєте index=0 (index=False), індекс рядків DataFrame не буде включений у збережений CSV файл.\n"
   ]
  },
  {
   "cell_type": "code",
   "execution_count": null,
   "metadata": {},
   "outputs": [],
   "source": [
    "#Цей файл буде збережено в папку, яка містить робочий ноутбук \"Pandas_Library\"!!!\n",
    "df.to_csv('DE-index.csv', index = 0)"
   ]
  },
  {
   "cell_type": "code",
   "execution_count": null,
   "metadata": {},
   "outputs": [],
   "source": []
  }
 ],
 "metadata": {
  "kernelspec": {
   "display_name": "Python 3 (ipykernel)",
   "language": "python",
   "name": "python3"
  },
  "language_info": {
   "codemirror_mode": {
    "name": "ipython",
    "version": 3
   },
   "file_extension": ".py",
   "mimetype": "text/x-python",
   "name": "python",
   "nbconvert_exporter": "python",
   "pygments_lexer": "ipython3",
   "version": "3.12.4"
  }
 },
 "nbformat": 4,
 "nbformat_minor": 4
}
