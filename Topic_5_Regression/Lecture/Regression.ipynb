{
 "cells": [
  {
   "cell_type": "markdown",
   "id": "d6f1d447",
   "metadata": {
    "id": "d6f1d447",
    "papermill": {
     "duration": 0.01393,
     "end_time": "2024-02-02T05:33:38.633393",
     "exception": false,
     "start_time": "2024-02-02T05:33:38.619463",
     "status": "completed"
    },
    "tags": []
   },
   "source": [
    "# Базові алгоритми машинного навчання: регресія"
   ]
  },
  {
   "cell_type": "markdown",
   "id": "e91d7832",
   "metadata": {
    "id": "e91d7832",
    "papermill": {
     "duration": 0.012369,
     "end_time": "2024-02-02T05:33:38.683057",
     "exception": false,
     "start_time": "2024-02-02T05:33:38.670688",
     "status": "completed"
    },
    "tags": []
   },
   "source": [
    "Автомобільна компанія BestСars прагне вийти на ринок США, створивши там свій виробничий підрозділ і виробляючи автомобілі на місці, щоб скласти конкуренцію своїм американським і європейським колегам.  \n",
    "- Компанія хоче зрозуміти фактори, що впливають на ціноутворення автомобілів на американському ринку, оскільки вони можуть сильно відрізнятися від національного ринку.\n",
    "- Після цього компанія планує розробити та запропонувати на ринку США кілька власних моделей автомобілів. А для цього компанії необхідно правильно спрогнозувати ціну на нові моделі автомобілів власного виробництва.  "
   ]
  },
  {
   "cell_type": "markdown",
   "id": "0e052442",
   "metadata": {
    "_cell_guid": "8f068def-5893-4a06-a0f0-fabe684382d9",
    "_uuid": "1e53aaf2-ceab-4717-9f1a-135dd1edfa54",
    "id": "0e052442",
    "papermill": {
     "duration": 0.011914,
     "end_time": "2024-02-02T05:33:38.707408",
     "exception": false,
     "start_time": "2024-02-02T05:33:38.695494",
     "status": "completed"
    },
    "tags": []
   },
   "source": [
    "### На основі різноманітних ринкових досліджень компанія зібрала набір даних про різні типи автомобілів на американському ринку:  \n",
    "\n",
    "   <ul style = \"font-family: 'Segoe UI'; font-size: 16px;\" >\n",
    "        <li><strong>CarID:</strong> ID кожної машини</li>\n",
    "        <li><strong>CarName:</strong> модель автомобіля</li>\n",
    "        <li><strong>FuelType:</strong> тип використовуваного палива (бензин, дизель)</li>\n",
    "        <li><strong>Aspiration:</strong> тип аспірації (стандартний чи турбо)</li>\n",
    "        <li><strong>NumDoors:</strong> кількість дверей в машині</li>\n",
    "        <li><strong>CarBody:</strong> тип кузова автомобіля (седан, купе, позашляховик і т. д.)</li>\n",
    "        <li><strong>DriveWheelType:</strong> тип приводу (передній, задній, повний)</li>\n",
    "        <li><strong>EngineLocation:</strong> розташування двигуна автомобіля (спереду або позаду)</li>\n",
    "        <li><strong>CarLength:</strong> загальна довжина автомобіля</li>\n",
    "        <li><strong>CarWidth:</strong> ширина автомобіля</li>\n",
    "        <li><strong>CurbWeight:</strong> вага автомобіля без пасажирів та вантажу</li>\n",
    "        <li><strong>EngineType:</strong> тип двигуна</li>\n",
    "        <li><strong>NumCylinders:</strong> кількість циліндрів в двигуні</li>\n",
    "        <li><strong>EngineSize:</strong> об'єм двигуна автомобіля</li>\n",
    "        <li><strong>FuelSystem:</strong> тип системи подачі палива</li>\n",
    "        <li><strong>BoreRatio:</strong> діаметр поршня до довжини ходу двигуна</li>\n",
    "        <li><strong>CarPrice:</strong> ціна автомобіля</li>\n",
    "    </ul>"
   ]
  },
  {
   "cell_type": "code",
   "execution_count": 1,
   "id": "94644f00",
   "metadata": {
    "_cell_guid": "d5d38aff-bed8-40cd-9d48-b3d3b3525ced",
    "_uuid": "f88a796b-6e48-4188-917a-6eebf8b0c2c4",
    "collapsed": false,
    "id": "94644f00",
    "jupyter": {
     "outputs_hidden": false
    },
    "papermill": {
     "duration": 2.004807,
     "end_time": "2024-02-02T05:33:40.825463",
     "exception": false,
     "start_time": "2024-02-02T05:33:38.820656",
     "status": "completed"
    },
    "tags": []
   },
   "outputs": [],
   "source": [
    "# імпортуємо потрібні біблотеки\n",
    "import numpy as np\n",
    "import pandas as pd\n",
    "import matplotlib.pyplot as plt\n",
    "import seaborn as sns\n",
    "\n",
    "%matplotlib inline\n",
    "\n",
    "import warnings\n",
    "warnings.filterwarnings('ignore')"
   ]
  },
  {
   "cell_type": "code",
   "execution_count": 2,
   "id": "7347bc3e",
   "metadata": {
    "_cell_guid": "98de2589-6369-476e-a9e4-0306bc71a377",
    "_uuid": "91e67665-bcbd-4ff1-9485-39ed6ab353f5",
    "colab": {
     "base_uri": "https://localhost:8080/",
     "height": 206
    },
    "collapsed": false,
    "id": "7347bc3e",
    "jupyter": {
     "outputs_hidden": false
    },
    "outputId": "c632356c-14e8-4ae0-891c-bae2a384daad",
    "papermill": {
     "duration": 0.046862,
     "end_time": "2024-02-02T05:33:40.884793",
     "exception": false,
     "start_time": "2024-02-02T05:33:40.837931",
     "status": "completed"
    },
    "tags": []
   },
   "outputs": [
    {
     "data": {
      "text/html": [
       "<div>\n",
       "<style scoped>\n",
       "    .dataframe tbody tr th:only-of-type {\n",
       "        vertical-align: middle;\n",
       "    }\n",
       "\n",
       "    .dataframe tbody tr th {\n",
       "        vertical-align: top;\n",
       "    }\n",
       "\n",
       "    .dataframe thead th {\n",
       "        text-align: right;\n",
       "    }\n",
       "</style>\n",
       "<table border=\"1\" class=\"dataframe\">\n",
       "  <thead>\n",
       "    <tr style=\"text-align: right;\">\n",
       "      <th></th>\n",
       "      <th>car_ID</th>\n",
       "      <th>CarName</th>\n",
       "      <th>fueltype</th>\n",
       "      <th>aspiration</th>\n",
       "      <th>doornumber</th>\n",
       "      <th>carbody</th>\n",
       "      <th>drivewheel</th>\n",
       "      <th>enginelocation</th>\n",
       "      <th>carlength</th>\n",
       "      <th>carwidth</th>\n",
       "      <th>curbweight</th>\n",
       "      <th>enginetype</th>\n",
       "      <th>cylindernumber</th>\n",
       "      <th>enginesize</th>\n",
       "      <th>fuelsystem</th>\n",
       "      <th>boreratio</th>\n",
       "      <th>price</th>\n",
       "    </tr>\n",
       "  </thead>\n",
       "  <tbody>\n",
       "    <tr>\n",
       "      <th>0</th>\n",
       "      <td>1</td>\n",
       "      <td>alfa-romero giulia</td>\n",
       "      <td>gas</td>\n",
       "      <td>std</td>\n",
       "      <td>two</td>\n",
       "      <td>convertible</td>\n",
       "      <td>rwd</td>\n",
       "      <td>front</td>\n",
       "      <td>168.8</td>\n",
       "      <td>64.1</td>\n",
       "      <td>2548</td>\n",
       "      <td>dohc/v</td>\n",
       "      <td>2-4</td>\n",
       "      <td>130</td>\n",
       "      <td>mpfi</td>\n",
       "      <td>3.47</td>\n",
       "      <td>13495.0</td>\n",
       "    </tr>\n",
       "    <tr>\n",
       "      <th>1</th>\n",
       "      <td>2</td>\n",
       "      <td>alfa-romero stelvio</td>\n",
       "      <td>gas</td>\n",
       "      <td>std</td>\n",
       "      <td>two</td>\n",
       "      <td>convertible</td>\n",
       "      <td>rwd</td>\n",
       "      <td>front</td>\n",
       "      <td>168.8</td>\n",
       "      <td>64.1</td>\n",
       "      <td>2548</td>\n",
       "      <td>dohc/v</td>\n",
       "      <td>2-4</td>\n",
       "      <td>130</td>\n",
       "      <td>mpfi</td>\n",
       "      <td>3.47</td>\n",
       "      <td>16500.0</td>\n",
       "    </tr>\n",
       "    <tr>\n",
       "      <th>2</th>\n",
       "      <td>3</td>\n",
       "      <td>alfa-romero Quadrifoglio</td>\n",
       "      <td>gas</td>\n",
       "      <td>std</td>\n",
       "      <td>two</td>\n",
       "      <td>hatchback</td>\n",
       "      <td>rwd</td>\n",
       "      <td>front</td>\n",
       "      <td>171.2</td>\n",
       "      <td>65.5</td>\n",
       "      <td>2823</td>\n",
       "      <td>ohc/v/f</td>\n",
       "      <td>5-6</td>\n",
       "      <td>152</td>\n",
       "      <td>mpfi</td>\n",
       "      <td>2.68</td>\n",
       "      <td>16500.0</td>\n",
       "    </tr>\n",
       "    <tr>\n",
       "      <th>3</th>\n",
       "      <td>4</td>\n",
       "      <td>audi 100 ls</td>\n",
       "      <td>gas</td>\n",
       "      <td>std</td>\n",
       "      <td>four</td>\n",
       "      <td>sedan</td>\n",
       "      <td>fwd</td>\n",
       "      <td>front</td>\n",
       "      <td>176.6</td>\n",
       "      <td>66.2</td>\n",
       "      <td>2337</td>\n",
       "      <td>ohc/v/f</td>\n",
       "      <td>2-4</td>\n",
       "      <td>109</td>\n",
       "      <td>mpfi</td>\n",
       "      <td>3.19</td>\n",
       "      <td>13950.0</td>\n",
       "    </tr>\n",
       "    <tr>\n",
       "      <th>4</th>\n",
       "      <td>5</td>\n",
       "      <td>audi 100ls</td>\n",
       "      <td>gas</td>\n",
       "      <td>std</td>\n",
       "      <td>four</td>\n",
       "      <td>sedan</td>\n",
       "      <td>4wd</td>\n",
       "      <td>front</td>\n",
       "      <td>176.6</td>\n",
       "      <td>66.4</td>\n",
       "      <td>2824</td>\n",
       "      <td>ohc/v/f</td>\n",
       "      <td>5-6</td>\n",
       "      <td>136</td>\n",
       "      <td>mpfi</td>\n",
       "      <td>3.19</td>\n",
       "      <td>17450.0</td>\n",
       "    </tr>\n",
       "  </tbody>\n",
       "</table>\n",
       "</div>"
      ],
      "text/plain": [
       "   car_ID                   CarName fueltype aspiration doornumber  \\\n",
       "0       1        alfa-romero giulia      gas        std        two   \n",
       "1       2       alfa-romero stelvio      gas        std        two   \n",
       "2       3  alfa-romero Quadrifoglio      gas        std        two   \n",
       "3       4               audi 100 ls      gas        std       four   \n",
       "4       5                audi 100ls      gas        std       four   \n",
       "\n",
       "       carbody drivewheel enginelocation  carlength  carwidth  curbweight  \\\n",
       "0  convertible        rwd          front      168.8      64.1        2548   \n",
       "1  convertible        rwd          front      168.8      64.1        2548   \n",
       "2    hatchback        rwd          front      171.2      65.5        2823   \n",
       "3        sedan        fwd          front      176.6      66.2        2337   \n",
       "4        sedan        4wd          front      176.6      66.4        2824   \n",
       "\n",
       "  enginetype cylindernumber  enginesize fuelsystem  boreratio    price  \n",
       "0     dohc/v            2-4         130       mpfi       3.47  13495.0  \n",
       "1     dohc/v            2-4         130       mpfi       3.47  16500.0  \n",
       "2    ohc/v/f            5-6         152       mpfi       2.68  16500.0  \n",
       "3    ohc/v/f            2-4         109       mpfi       3.19  13950.0  \n",
       "4    ohc/v/f            5-6         136       mpfi       3.19  17450.0  "
      ]
     },
     "execution_count": 2,
     "metadata": {},
     "output_type": "execute_result"
    }
   ],
   "source": [
    "#відкриємо файл з даними та зчитаємо вміст файлу в датафрейм\n",
    "df = pd.read_csv('https://raw.githubusercontent.com/OlhaOsypova/Machine-Learning-and-Data-Analytics/refs/heads/main/Topic_5_Regression/Lecture/cars.csv')\n",
    "df.head()"
   ]
  },
  {
   "cell_type": "markdown",
   "id": "981ec19f",
   "metadata": {
    "id": "981ec19f"
   },
   "source": [
    "### Що ми маємо і що необхідно зробити\n",
    "    \n",
    "- Ціна авто - цільова (залежна) змінна, значення якої необхідно навчитися правильно прогнозувати\n",
    "\n",
    "- Набір характеристик автомобіля (об'єм двигуна, тип кузова, вага авто і т.д.)\n",
    "\n",
    "- Необхідно спрогнозувати ціну автомобіля на основі його характеристик  \n",
    "\n",
    "### В цьому нам допоможе алгоритм машинного навчання відомий як алгоритм регресії\n",
    "Оскільки цільова змінна — ціна автомобіля — є безперервною числовою величиною, для такого завдання підходять алгоритми регресії.\n",
    "Мета моделі полягає не в класифікації об’єктів за категоріями, а у прогнозуванні числового значення, тому саме регресійні методи (лінійна регресія, випадковий ліс, градієнтний бустинг тощо) дозволяють оцінити залежність між характеристиками авто та очікуваною ціною.  \n",
    "\n",
    "Отже, алгоритми регресії використовуються, коли:  \n",
    "- Цільова змінна є числовою (наприклад, сума, ціна, вік, дохід тощо).  \n",
    "- Потрібно прогнозувати конкретне значення, а не віднести об’єкт до певної категорії.\n",
    "\n",
    "**Практичні приклади задач регресії**  \n",
    "- Енергетика:  \n",
    "прогнозування споживання електроенергії або тепла залежно від часу доби, температури та навантаження мережі.\n",
    "\n",
    "- Ігрова аналітика:  \n",
    "передбачення часу, який гравець проведе у грі.  \n",
    "  \n",
    "- Рекомендаційні системи:  \n",
    "прогнозування рейтингу, який користувач поставить фільму, серіалу чи музиці.\n",
    "\n",
    "- Психологія та соціальні науки:  \n",
    "оцінка рівня задоволеності чи стресу на основі анкетних та поведінкових показників.\n",
    "\n",
    "- Сільське господарство:  \n",
    "прогнозування врожайності культур залежно від кількості опадів, температури й використаних добрив."
   ]
  },
  {
   "cell_type": "markdown",
   "id": "1a54ba5c",
   "metadata": {
    "id": "1a54ba5c"
   },
   "source": [
    "### 1. Підготовка даних    \n",
    "#### Що зробити до регресії?  \n",
    "Подивитися на датасет: .head (), .info (), .dtypes, .describe ()  \n",
    "<span style=\"color:red\">Почистити від пропущених значень: fillna(), dropna () </span>   \n",
    "Проаналізувати викиди в даних, за потреби - видалити їх  \n",
    "Бажано провести стандартизацію даних  \n",
    "<span style=\"color:red\">Перекодувати категоріальні ознаки в числові</span>  "
   ]
  },
  {
   "cell_type": "code",
   "execution_count": 3,
   "id": "00c5eb12-c5ca-41a8-bc9b-6619290ddc64",
   "metadata": {
    "colab": {
     "base_uri": "https://localhost:8080/"
    },
    "id": "00c5eb12-c5ca-41a8-bc9b-6619290ddc64",
    "outputId": "947c02b7-7f39-48c7-fc09-288c36d8462f"
   },
   "outputs": [
    {
     "name": "stdout",
     "output_type": "stream",
     "text": [
      "<class 'pandas.core.frame.DataFrame'>\n",
      "RangeIndex: 205 entries, 0 to 204\n",
      "Data columns (total 17 columns):\n",
      " #   Column          Non-Null Count  Dtype  \n",
      "---  ------          --------------  -----  \n",
      " 0   car_ID          205 non-null    int64  \n",
      " 1   CarName         205 non-null    object \n",
      " 2   fueltype        205 non-null    object \n",
      " 3   aspiration      205 non-null    object \n",
      " 4   doornumber      205 non-null    object \n",
      " 5   carbody         205 non-null    object \n",
      " 6   drivewheel      205 non-null    object \n",
      " 7   enginelocation  205 non-null    object \n",
      " 8   carlength       205 non-null    float64\n",
      " 9   carwidth        205 non-null    float64\n",
      " 10  curbweight      205 non-null    int64  \n",
      " 11  enginetype      205 non-null    object \n",
      " 12  cylindernumber  205 non-null    object \n",
      " 13  enginesize      205 non-null    int64  \n",
      " 14  fuelsystem      205 non-null    object \n",
      " 15  boreratio       205 non-null    float64\n",
      " 16  price           205 non-null    float64\n",
      "dtypes: float64(4), int64(3), object(10)\n",
      "memory usage: 27.4+ KB\n"
     ]
    }
   ],
   "source": [
    "df.info()"
   ]
  },
  {
   "cell_type": "code",
   "execution_count": 4,
   "id": "5d3f15b3",
   "metadata": {
    "id": "5d3f15b3"
   },
   "outputs": [],
   "source": [
    "#видалимо зайві стовпчики\n",
    "df.drop(['car_ID', 'CarName'], axis=1, inplace=True)"
   ]
  },
  {
   "cell_type": "markdown",
   "id": "7cafa6ea-ed1d-49f3-86c7-b8103977173a",
   "metadata": {
    "id": "7cafa6ea-ed1d-49f3-86c7-b8103977173a"
   },
   "source": [
    "### 2. Сформуємо матрицю незалежних змінних та вектор залежної змінної"
   ]
  },
  {
   "cell_type": "code",
   "execution_count": 5,
   "id": "a6275b80",
   "metadata": {
    "id": "a6275b80",
    "papermill": {
     "duration": 0.063962,
     "end_time": "2024-02-02T05:33:53.250988",
     "exception": false,
     "start_time": "2024-02-02T05:33:53.187026",
     "status": "completed"
    },
    "tags": []
   },
   "outputs": [],
   "source": [
    "# Незалежні змінні - всі в датафреймі df, крім price\n",
    "X = df.drop(['price'], axis=1)\n",
    "\n",
    "# price - цільова (прогнозована) змінна\n",
    "y = df['price']"
   ]
  },
  {
   "cell_type": "markdown",
   "id": "9cd88cd9-285e-4981-af31-b67e1628fdc5",
   "metadata": {
    "id": "9cd88cd9-285e-4981-af31-b67e1628fdc5"
   },
   "source": [
    "#### 3. Перекодуємо категоріальні ознаки в матриці незалежних змінних у числові"
   ]
  },
  {
   "cell_type": "code",
   "execution_count": 6,
   "id": "52088970",
   "metadata": {
    "colab": {
     "base_uri": "https://localhost:8080/"
    },
    "id": "52088970",
    "outputId": "89f6fd2d-b81e-4316-c1f4-eb146989ddd3"
   },
   "outputs": [
    {
     "name": "stdout",
     "output_type": "stream",
     "text": [
      "<class 'pandas.core.frame.DataFrame'>\n",
      "RangeIndex: 205 entries, 0 to 204\n",
      "Data columns (total 22 columns):\n",
      " #   Column               Non-Null Count  Dtype  \n",
      "---  ------               --------------  -----  \n",
      " 0   carlength            205 non-null    float64\n",
      " 1   carwidth             205 non-null    float64\n",
      " 2   curbweight           205 non-null    int64  \n",
      " 3   enginesize           205 non-null    int64  \n",
      " 4   boreratio            205 non-null    float64\n",
      " 5   fueltype_gas         205 non-null    float64\n",
      " 6   aspiration_turbo     205 non-null    float64\n",
      " 7   doornumber_two       205 non-null    float64\n",
      " 8   carbody_hardtop      205 non-null    float64\n",
      " 9   carbody_hatchback    205 non-null    float64\n",
      " 10  carbody_sedan        205 non-null    float64\n",
      " 11  carbody_wagon        205 non-null    float64\n",
      " 12  drivewheel_fwd       205 non-null    float64\n",
      " 13  drivewheel_rwd       205 non-null    float64\n",
      " 14  enginelocation_rear  205 non-null    float64\n",
      " 15  enginetype_l         205 non-null    float64\n",
      " 16  enginetype_ohc/v/f   205 non-null    float64\n",
      " 17  enginetype_rotor     205 non-null    float64\n",
      " 18  cylindernumber_5-6   205 non-null    float64\n",
      " 19  cylindernumber_8-12  205 non-null    float64\n",
      " 20  fuelsystem_mpfi      205 non-null    float64\n",
      " 21  fuelsystem_other     205 non-null    float64\n",
      "dtypes: float64(20), int64(2)\n",
      "memory usage: 35.4 KB\n",
      "None\n"
     ]
    }
   ],
   "source": [
    "from sklearn.preprocessing import OneHotEncoder\n",
    "\n",
    "# Вибираємо категоріальні стовпці\n",
    "categorical_columns = X.select_dtypes(include=['object']).columns\n",
    "\n",
    "# Ініціалізуємо OneHotEncoder\n",
    "encoder = OneHotEncoder(sparse_output=False, drop='first')\n",
    "\n",
    "# Застосовуємо OneHotEncoder до категоріальних стовпців\n",
    "encoded_columns = encoder.fit_transform(X[categorical_columns])\n",
    "\n",
    "# Створюємо новий DataFrame з перекодованими змінними і назвами колонок\n",
    "encoded_X = pd.DataFrame(encoded_columns, columns=encoder.get_feature_names_out(categorical_columns))\n",
    "\n",
    "# Переконаємося, що індекси X і encoded_X співпадають\n",
    "encoded_X.index = X.index\n",
    "\n",
    "# Видаляємо оригінальні категоріальні стовпці\n",
    "X = X.drop(columns=categorical_columns)\n",
    "\n",
    "# Об'єднуємо початковий DataFrame з новими перекодованими стовпцями\n",
    "X = pd.concat([X, encoded_X], axis=1)\n",
    "\n",
    "# Перевіряємо результати\n",
    "print(X.info())"
   ]
  },
  {
   "cell_type": "markdown",
   "id": "4d29b409-35b7-4688-8ed2-f20d2a39f172",
   "metadata": {
    "id": "4d29b409-35b7-4688-8ed2-f20d2a39f172"
   },
   "source": [
    "### 4. Розподіл даних на навчальну (тренувальну) та тестову вибірки  \n",
    "Навчальна і тестова вибірки - це частини вихідного набору даних, які використовуються для тренування і перевірки моделі в машинному навчанні.\n",
    "\n",
    "- Навчальна вибірка: Це частина вихідних даних, яка використовується для навчання моделі. Модель \"вивчає\" закономірності в цих даних, шукаючи зв'язки між вхідними і вихідними змінними.\n",
    "\n",
    "- Тестова вибірка: Це інша частина вихідних даних, яка не використовується під час навчання моделі. Замість цього, ці дані використовуються для оцінки роботи моделі і перевірки її точності після завершення навчання. Тестова вибірка допомагає визначити, наскільки добре модель може узагальнювати знання на нових даних, які вона раніше не бачила."
   ]
  },
  {
   "cell_type": "code",
   "execution_count": 7,
   "id": "43c35b93",
   "metadata": {
    "id": "43c35b93"
   },
   "outputs": [],
   "source": [
    "# Розбиваємо дані на навчальну і тестову вибірки\n",
    "from sklearn.model_selection import train_test_split\n",
    "X_train, X_test, y_train, y_test = train_test_split(X, y, test_size=0.1, random_state=42)"
   ]
  },
  {
   "cell_type": "markdown",
   "id": "49c94d57",
   "metadata": {
    "id": "49c94d57"
   },
   "source": [
    "- test_size - розмір тестової вибірки (в нашому прикладі розмір тестової вибірки - 0,1, тобто 10% даних. Традиційно розмір тестової вибірки обирають 0,3 або 0,2. Якщо спостережень небагато (як в даному наборі даних), розмір тестової вибірки можна зменшити до 0,1.   \n",
    "- random_state - аргумент, який дозволяє \"зафіксувати\" розподіл на тренувальну та тестову вибірки"
   ]
  },
  {
   "cell_type": "markdown",
   "id": "e4bc5d78",
   "metadata": {
    "id": "e4bc5d78"
   },
   "source": [
    "### 5. Навчання моделі  \n",
    "Виконаємо навчання таких моделей:  \n",
    "- дерево рішень (DecisionTreeRegressor)\n",
    "- випадковий ліс (RandomForestRegressor)\n",
    "\n",
    "Принцип роботи алгоритмів дерев рішень та випадкового лісу для вирішення задач класифікації та регресії є дуже схожим, тому в цій лекції опис цих алгоритмів не наводиться.  \n",
    "\n",
    "Потім перевіряємо якість побудованих моделей та обираємо кращу з них для прогнозування цільової змінної.    \n",
    "#### Як ми оцінимо якість кожної моделі?  \n",
    "1. За допомогою коефіцієнту детермінації R2. Коефіцієнт детермінації вказує на скільки % модель може пояснити поведінку залежної змінної. Кращі моделі регресії мають більший коефіцієнт детермінації, який може бути від 0 до 1 (**або якщо перевести у відсотки, то  від 0% до 100% відповідно).**  \n",
    "2. За допомогою середньоквадратичної помилки (RMSE — Root Mean Squared Error). Цей показник відображає, наскільки в середньому модель помиляється при прогнозуванні, тобто на яку величину спрогнозовані значення відрізняються від реальних. RMSE вимірюється в тих самих одиницях, що й цільова змінна (у нашому випадку — у доларах), тому його легко інтерпретувати: **чим менше значення RMSE, тим точніше прогнозує модель.**  "
   ]
  },
  {
   "cell_type": "markdown",
   "id": "cP4PWyMswSMJ",
   "metadata": {
    "id": "cP4PWyMswSMJ"
   },
   "source": [
    "**Покроковий процес навчання та оцінювання моделі, який можна застосовувати до будь-якої регресійної моделі із використанням бібліотеки sklearn**\n",
    "1. Імпортуємо необхідні класи:  \n",
    "- клас регресійної моделі (наприклад, DecisionTreeRegressor)  \n",
    "- метрики для оцінки якості моделі (наприклад, r2_score, mean_squared_error)\n",
    "    \n",
    "2. Ініціалізуємо модель:   \n",
    "наприклад, model = DecisionTreeRegressor().\n",
    "\n",
    "3. Навчаємо модель на навчальній вибірці за допомогою методу .fit():\n",
    "model.fit(X_train, y_train).\n",
    "\n",
    "4. Робимо прогноз на тестовій вибірці за допомогоюметоду  .predict():  \n",
    "y_pred_test = model.predict(X_test).  \n",
    "5. Оцінюємо якість моделі за допомогою R² та RMSE:  \n",
    "- r2_score(y_test, y_pred_test)\n",
    "- rmse = np.sqrt(mean_squared_error(y_test, y_pred_test))\n",
    "  \n",
    "6. Інтерпретуємо отримані метрики:  \n",
    "- R² показує, наскільки добре модель узгоджується з даними (чим ближче до 1, тим краще).  \n",
    "- RMSE показує середню помилку прогнозу в одиницях цільової змінної (чим менше, тим точніше).  чину похибки прогнозу в квадраті."
   ]
  },
  {
   "cell_type": "code",
   "execution_count": 8,
   "id": "UoPyiYepwikK",
   "metadata": {
    "colab": {
     "base_uri": "https://localhost:8080/"
    },
    "id": "UoPyiYepwikK",
    "outputId": "27a51128-774b-45b2-fc57-ed6c572a6133"
   },
   "outputs": [
    {
     "name": "stdout",
     "output_type": "stream",
     "text": [
      "Decision Tree Regressor:\n",
      "R² = 0.877\n",
      "RMSE = 3141.10\n",
      "\n",
      "Random Forest Regressor:\n",
      "R² = 0.935\n",
      "RMSE = 2278.65\n"
     ]
    }
   ],
   "source": [
    "# імпортуємо необхідні для навчання та тестування моделі класи з бібліотеки sklearn\n",
    "from sklearn.tree import DecisionTreeRegressor\n",
    "from sklearn.ensemble import RandomForestRegressor\n",
    "from sklearn.metrics import r2_score, mean_squared_error\n",
    "import numpy as np\n",
    "\n",
    "# Навчання моделей\n",
    "tree_model = DecisionTreeRegressor(random_state=42)\n",
    "rf_model = RandomForestRegressor(n_estimators=200, random_state=42)\n",
    "\n",
    "tree_model.fit(X_train, y_train)\n",
    "rf_model.fit(X_train, y_train)\n",
    "\n",
    "# Прогнозування на тестових даних\n",
    "y_pred_tree = tree_model.predict(X_test)\n",
    "y_pred_rf = rf_model.predict(X_test)\n",
    "\n",
    "# Оцінювання якості\n",
    "r2_tree = r2_score(y_test, y_pred_tree)\n",
    "rmse_tree = np.sqrt(mean_squared_error(y_test, y_pred_tree))\n",
    "\n",
    "r2_rf = r2_score(y_test, y_pred_rf)\n",
    "rmse_rf = np.sqrt(mean_squared_error(y_test, y_pred_rf))\n",
    "\n",
    "# Виведення результатів\n",
    "print('Decision Tree Regressor:')\n",
    "print(f'R² = {r2_tree:.3f}')\n",
    "print(f'RMSE = {rmse_tree:.2f}\\n')\n",
    "\n",
    "print('Random Forest Regressor:')\n",
    "print(f'R² = {r2_rf:.3f}')\n",
    "print(f'RMSE = {rmse_rf:.2f}')"
   ]
  },
  {
   "cell_type": "markdown",
   "id": "w1khPZQE0AyD",
   "metadata": {
    "id": "w1khPZQE0AyD"
   },
   "source": [
    "Висновки та вибір кращої моделі\n",
    "\n",
    "Decision Tree Regressor\n",
    "\n",
    "R² = 0.877 — модель дерева рішень пояснює приблизно 87,7% варіації у значеннях ціни авто.\n",
    "RMSE = 3141.10 — середня похибка прогнозу становить близько 3 141.10 дол., тобто реальні значення ціни авто можуть відрізнятися від передбачених моделлю на ≈3,14 тис. дол.\n",
    "\n",
    "Random Forest Regressor\n",
    "\n",
    "R² = 0.935 — модель випадкового лісу пояснює 93,5% варіації у даних, що є дуже високим показником.\n",
    "RMSE = 2278.65 — середня похибка прогнозу становить лише 2 278.65 дол., тобто модель прогнозує значно точніше — відхилення реальних значень ціни авто від спрогнозованих моделлю в середньому складає 2 278.65 дол. у більшу або меншу сторону."
   ]
  },
  {
   "cell_type": "markdown",
   "id": "N4HZ6lvu0Hmw",
   "metadata": {
    "id": "N4HZ6lvu0Hmw"
   },
   "source": [
    "#### Які характеристики авто мають пріоритетне значення при формуванні його цціни?  \n",
    "Аналогічно до задач класифікації у моделях дерева рішень та випадкового лісу важливість ознак вказує який вклад робить кожна ознака в роботу моделі та точність прогнозу.  "
   ]
  },
  {
   "cell_type": "code",
   "execution_count": 9,
   "id": "Gu09rWFB0U27",
   "metadata": {
    "colab": {
     "base_uri": "https://localhost:8080/",
     "height": 507
    },
    "id": "Gu09rWFB0U27",
    "outputId": "60b25935-e636-4926-e47d-38f76080d936"
   },
   "outputs": [
    {
     "data": {
      "image/png": "[encoded data removed]",
      "text/plain": [
       "<Figure size 1200x500 with 2 Axes>"
      ]
     },
     "metadata": {},
     "output_type": "display_data"
    }
   ],
   "source": [
    "import pandas as pd\n",
    "import matplotlib.pyplot as plt\n",
    "\n",
    "# --- 1. Отримуємо важливість ознак ---\n",
    "tree_importance = pd.Series(tree_model.feature_importances_, index=X_train.columns)\n",
    "rf_importance   = pd.Series(rf_model.feature_importances_,   index=X_train.columns)\n",
    "\n",
    "# Вибираємо топ-10 і сортуємо для красивого barh (знизу вгору)\n",
    "top10_tree = tree_importance.nlargest(10).sort_values()\n",
    "top10_rf   = rf_importance.nlargest(10).sort_values()\n",
    "\n",
    "# --- 2. Будуємо графіки ---\n",
    "plt.figure(figsize=(12, 5))\n",
    "\n",
    "# Графік 1 — Decision Tree (топ-10)\n",
    "plt.subplot(1, 2, 1)\n",
    "top10_tree.plot(kind='barh', color='skyblue')\n",
    "plt.title(\"Топ-10 важливих ознак — Decision Tree Regressor\")\n",
    "plt.xlabel(\"Важливість\")\n",
    "plt.ylabel(\"Ознака\")\n",
    "\n",
    "# Графік 2 — Random Forest (топ-10)\n",
    "plt.subplot(1, 2, 2)\n",
    "top10_rf.plot(kind='barh', color='lightgreen')\n",
    "plt.title(\"Топ-10 важливих ознак — Random Forest Regressor\")\n",
    "plt.xlabel(\"Важливість\")\n",
    "plt.ylabel(\"Ознака\")\n",
    "\n",
    "plt.tight_layout()\n",
    "plt.show()\n"
   ]
  },
  {
   "cell_type": "markdown",
   "id": "5baf995b",
   "metadata": {
    "id": "5baf995b"
   },
   "source": [
    "### 6. Прогнозування ціни автомобілів  \n",
    "Компанія розробила 5 варіантів нових моделей автомобілів, які планує почати виготовляти та постачати на ринок США. Тепер необхідно визначитися за якою ціною ці авто варто продавати."
   ]
  },
  {
   "cell_type": "code",
   "execution_count": 10,
   "id": "7080c1a0",
   "metadata": {
    "colab": {
     "base_uri": "https://localhost:8080/",
     "height": 273
    },
    "id": "7080c1a0",
    "outputId": "06a56cfc-2170-4d83-e213-fac3532af95e"
   },
   "outputs": [
    {
     "data": {
      "text/html": [
       "<div>\n",
       "<style scoped>\n",
       "    .dataframe tbody tr th:only-of-type {\n",
       "        vertical-align: middle;\n",
       "    }\n",
       "\n",
       "    .dataframe tbody tr th {\n",
       "        vertical-align: top;\n",
       "    }\n",
       "\n",
       "    .dataframe thead th {\n",
       "        text-align: right;\n",
       "    }\n",
       "</style>\n",
       "<table border=\"1\" class=\"dataframe\">\n",
       "  <thead>\n",
       "    <tr style=\"text-align: right;\">\n",
       "      <th></th>\n",
       "      <th>carlength</th>\n",
       "      <th>carwidth</th>\n",
       "      <th>curbweight</th>\n",
       "      <th>enginesize</th>\n",
       "      <th>boreratio</th>\n",
       "      <th>fueltype_gas</th>\n",
       "      <th>aspiration_turbo</th>\n",
       "      <th>doornumber_two</th>\n",
       "      <th>carbody_hardtop</th>\n",
       "      <th>carbody_hatchback</th>\n",
       "      <th>...</th>\n",
       "      <th>drivewheel_fwd</th>\n",
       "      <th>drivewheel_rwd</th>\n",
       "      <th>enginelocation_rear</th>\n",
       "      <th>enginetype_l</th>\n",
       "      <th>enginetype_ohc/v/f</th>\n",
       "      <th>enginetype_rotor</th>\n",
       "      <th>cylindernumber_5-6</th>\n",
       "      <th>cylindernumber_8-12</th>\n",
       "      <th>fuelsystem_mpfi</th>\n",
       "      <th>fuelsystem_other</th>\n",
       "    </tr>\n",
       "  </thead>\n",
       "  <tbody>\n",
       "    <tr>\n",
       "      <th>0</th>\n",
       "      <td>157.3</td>\n",
       "      <td>64.4</td>\n",
       "      <td>1918</td>\n",
       "      <td>92</td>\n",
       "      <td>2.97</td>\n",
       "      <td>1</td>\n",
       "      <td>0</td>\n",
       "      <td>1</td>\n",
       "      <td>0</td>\n",
       "      <td>1</td>\n",
       "      <td>...</td>\n",
       "      <td>1</td>\n",
       "      <td>0</td>\n",
       "      <td>0</td>\n",
       "      <td>0</td>\n",
       "      <td>1</td>\n",
       "      <td>0</td>\n",
       "      <td>0</td>\n",
       "      <td>0</td>\n",
       "      <td>0</td>\n",
       "      <td>1</td>\n",
       "    </tr>\n",
       "    <tr>\n",
       "      <th>1</th>\n",
       "      <td>173.2</td>\n",
       "      <td>66.3</td>\n",
       "      <td>2926</td>\n",
       "      <td>156</td>\n",
       "      <td>3.59</td>\n",
       "      <td>1</td>\n",
       "      <td>1</td>\n",
       "      <td>1</td>\n",
       "      <td>0</td>\n",
       "      <td>1</td>\n",
       "      <td>...</td>\n",
       "      <td>1</td>\n",
       "      <td>0</td>\n",
       "      <td>0</td>\n",
       "      <td>0</td>\n",
       "      <td>1</td>\n",
       "      <td>0</td>\n",
       "      <td>0</td>\n",
       "      <td>0</td>\n",
       "      <td>0</td>\n",
       "      <td>1</td>\n",
       "    </tr>\n",
       "    <tr>\n",
       "      <th>2</th>\n",
       "      <td>173.2</td>\n",
       "      <td>66.3</td>\n",
       "      <td>2818</td>\n",
       "      <td>156</td>\n",
       "      <td>3.59</td>\n",
       "      <td>1</td>\n",
       "      <td>1</td>\n",
       "      <td>1</td>\n",
       "      <td>0</td>\n",
       "      <td>1</td>\n",
       "      <td>...</td>\n",
       "      <td>0</td>\n",
       "      <td>1</td>\n",
       "      <td>0</td>\n",
       "      <td>0</td>\n",
       "      <td>1</td>\n",
       "      <td>0</td>\n",
       "      <td>0</td>\n",
       "      <td>0</td>\n",
       "      <td>0</td>\n",
       "      <td>1</td>\n",
       "    </tr>\n",
       "    <tr>\n",
       "      <th>3</th>\n",
       "      <td>176.2</td>\n",
       "      <td>65.6</td>\n",
       "      <td>2536</td>\n",
       "      <td>146</td>\n",
       "      <td>3.62</td>\n",
       "      <td>1</td>\n",
       "      <td>0</td>\n",
       "      <td>1</td>\n",
       "      <td>1</td>\n",
       "      <td>0</td>\n",
       "      <td>...</td>\n",
       "      <td>0</td>\n",
       "      <td>1</td>\n",
       "      <td>0</td>\n",
       "      <td>0</td>\n",
       "      <td>1</td>\n",
       "      <td>0</td>\n",
       "      <td>0</td>\n",
       "      <td>0</td>\n",
       "      <td>1</td>\n",
       "      <td>0</td>\n",
       "    </tr>\n",
       "    <tr>\n",
       "      <th>4</th>\n",
       "      <td>197.0</td>\n",
       "      <td>70.9</td>\n",
       "      <td>3505</td>\n",
       "      <td>209</td>\n",
       "      <td>3.62</td>\n",
       "      <td>1</td>\n",
       "      <td>0</td>\n",
       "      <td>0</td>\n",
       "      <td>0</td>\n",
       "      <td>0</td>\n",
       "      <td>...</td>\n",
       "      <td>0</td>\n",
       "      <td>1</td>\n",
       "      <td>0</td>\n",
       "      <td>0</td>\n",
       "      <td>1</td>\n",
       "      <td>0</td>\n",
       "      <td>1</td>\n",
       "      <td>0</td>\n",
       "      <td>1</td>\n",
       "      <td>0</td>\n",
       "    </tr>\n",
       "  </tbody>\n",
       "</table>\n",
       "<p>5 rows × 22 columns</p>\n",
       "</div>"
      ],
      "text/plain": [
       "   carlength  carwidth  curbweight  enginesize  boreratio  fueltype_gas  \\\n",
       "0      157.3      64.4        1918          92       2.97             1   \n",
       "1      173.2      66.3        2926         156       3.59             1   \n",
       "2      173.2      66.3        2818         156       3.59             1   \n",
       "3      176.2      65.6        2536         146       3.62             1   \n",
       "4      197.0      70.9        3505         209       3.62             1   \n",
       "\n",
       "   aspiration_turbo  doornumber_two  carbody_hardtop  carbody_hatchback  ...  \\\n",
       "0                 0               1                0                  1  ...   \n",
       "1                 1               1                0                  1  ...   \n",
       "2                 1               1                0                  1  ...   \n",
       "3                 0               1                1                  0  ...   \n",
       "4                 0               0                0                  0  ...   \n",
       "\n",
       "   drivewheel_fwd  drivewheel_rwd  enginelocation_rear  enginetype_l  \\\n",
       "0               1               0                    0             0   \n",
       "1               1               0                    0             0   \n",
       "2               0               1                    0             0   \n",
       "3               0               1                    0             0   \n",
       "4               0               1                    0             0   \n",
       "\n",
       "   enginetype_ohc/v/f  enginetype_rotor  cylindernumber_5-6  \\\n",
       "0                   1                 0                   0   \n",
       "1                   1                 0                   0   \n",
       "2                   1                 0                   0   \n",
       "3                   1                 0                   0   \n",
       "4                   1                 0                   1   \n",
       "\n",
       "   cylindernumber_8-12  fuelsystem_mpfi  fuelsystem_other  \n",
       "0                    0                0                 1  \n",
       "1                    0                0                 1  \n",
       "2                    0                0                 1  \n",
       "3                    0                1                 0  \n",
       "4                    0                1                 0  \n",
       "\n",
       "[5 rows x 22 columns]"
      ]
     },
     "execution_count": 10,
     "metadata": {},
     "output_type": "execute_result"
    }
   ],
   "source": [
    "# характеристики автомобілів, які плануються до випуску\n",
    "#для зручності всі категоріальні дані вже перекодовано, пропусків в даних немає\n",
    "new_cars = pd.read_csv('https://raw.githubusercontent.com/OlhaOsypova/Machine-Learning-and-Data-Analytics/refs/heads/main/Topic_5_Regression/Lecture/new_cars.csv')\n",
    "new_cars"
   ]
  },
  {
   "cell_type": "code",
   "execution_count": 11,
   "id": "1480a38a-7465-46f8-bbc7-35bcc9eb5fe1",
   "metadata": {
    "colab": {
     "base_uri": "https://localhost:8080/"
    },
    "id": "1480a38a-7465-46f8-bbc7-35bcc9eb5fe1",
    "outputId": "102cd0fc-c931-4f68-cbf3-99e35c1b2eeb"
   },
   "outputs": [
    {
     "name": "stdout",
     "output_type": "stream",
     "text": [
      "<class 'pandas.core.frame.DataFrame'>\n",
      "RangeIndex: 5 entries, 0 to 4\n",
      "Data columns (total 22 columns):\n",
      " #   Column               Non-Null Count  Dtype  \n",
      "---  ------               --------------  -----  \n",
      " 0   carlength            5 non-null      float64\n",
      " 1   carwidth             5 non-null      float64\n",
      " 2   curbweight           5 non-null      int64  \n",
      " 3   enginesize           5 non-null      int64  \n",
      " 4   boreratio            5 non-null      float64\n",
      " 5   fueltype_gas         5 non-null      int64  \n",
      " 6   aspiration_turbo     5 non-null      int64  \n",
      " 7   doornumber_two       5 non-null      int64  \n",
      " 8   carbody_hardtop      5 non-null      int64  \n",
      " 9   carbody_hatchback    5 non-null      int64  \n",
      " 10  carbody_sedan        5 non-null      int64  \n",
      " 11  carbody_wagon        5 non-null      int64  \n",
      " 12  drivewheel_fwd       5 non-null      int64  \n",
      " 13  drivewheel_rwd       5 non-null      int64  \n",
      " 14  enginelocation_rear  5 non-null      int64  \n",
      " 15  enginetype_l         5 non-null      int64  \n",
      " 16  enginetype_ohc/v/f   5 non-null      int64  \n",
      " 17  enginetype_rotor     5 non-null      int64  \n",
      " 18  cylindernumber_5-6   5 non-null      int64  \n",
      " 19  cylindernumber_8-12  5 non-null      int64  \n",
      " 20  fuelsystem_mpfi      5 non-null      int64  \n",
      " 21  fuelsystem_other     5 non-null      int64  \n",
      "dtypes: float64(3), int64(19)\n",
      "memory usage: 1012.0 bytes\n"
     ]
    }
   ],
   "source": [
    "#для зручності всі категоріальні дані вже перекодовано, пропусків в даних немає\n",
    "new_cars.info()"
   ]
  },
  {
   "cell_type": "code",
   "execution_count": 12,
   "id": "55aefb52",
   "metadata": {
    "colab": {
     "base_uri": "https://localhost:8080/"
    },
    "id": "55aefb52",
    "outputId": "1923163e-5d3c-4346-8a4a-8a285435c8f1"
   },
   "outputs": [
    {
     "name": "stdout",
     "output_type": "stream",
     "text": [
      "Спрогнозовано, що ціна нових автомобілів компанії BestCars має бути:\n",
      "Автомобіль 1: 5678.34 $\n",
      "Автомобіль 2: 14415.57 $\n",
      "Автомобіль 3: 13328.73 $\n",
      "Автомобіль 4: 9771.29 $\n",
      "Автомобіль 5: 36927.89 $\n"
     ]
    }
   ],
   "source": [
    "# виконуємо прогноз ціни нових моделей авто\n",
    "pred = rf_model.predict(new_cars)\n",
    "\n",
    "print('Спрогнозовано, що ціна нових автомобілів компанії BestCars має бути:')\n",
    "for i in range(len(pred)):\n",
    "    print(f'Автомобіль {i + 1}: {pred[i]:.2f} $')"
   ]
  }
 ],
 "metadata": {
  "colab": {
   "provenance": []
  },
  "kaggle": {
   "accelerator": "none",
   "dataSources": [
    {
     "datasetId": 245550,
     "sourceId": 518431,
     "sourceType": "datasetVersion"
    },
    {
     "datasetId": 383055,
     "sourceId": 741735,
     "sourceType": "datasetVersion"
    },
    {
     "datasetId": 1351279,
     "sourceId": 2246965,
     "sourceType": "datasetVersion"
    },
    {
     "datasetId": 2073626,
     "sourceId": 3442322,
     "sourceType": "datasetVersion"
    },
    {
     "datasetId": 2103734,
     "sourceId": 3495144,
     "sourceType": "datasetVersion"
    },
    {
     "datasetId": 2322277,
     "sourceId": 3909829,
     "sourceType": "datasetVersion"
    },
    {
     "datasetId": 2491159,
     "sourceId": 4226692,
     "sourceType": "datasetVersion"
    },
    {
     "datasetId": 2758947,
     "sourceId": 4766286,
     "sourceType": "datasetVersion"
    },
    {
     "datasetId": 2766452,
     "sourceId": 4779650,
     "sourceType": "datasetVersion"
    },
    {
     "datasetId": 3597439,
     "sourceId": 6259095,
     "sourceType": "datasetVersion"
    },
    {
     "datasetId": 3742543,
     "sourceId": 6478229,
     "sourceType": "datasetVersion"
    },
    {
     "sourceId": 584401,
     "sourceType": "kernelVersion"
    }
   ],
   "dockerImageVersionId": 30527,
   "isGpuEnabled": false,
   "isInternetEnabled": true,
   "language": "python",
   "sourceType": "notebook"
  },
  "kernelspec": {
   "display_name": "Python 3 (ipykernel)",
   "language": "python",
   "name": "python3"
  },
  "language_info": {
   "codemirror_mode": {
    "name": "ipython",
    "version": 3
   },
   "file_extension": ".py",
   "mimetype": "text/x-python",
   "name": "python",
   "nbconvert_exporter": "python",
   "pygments_lexer": "ipython3",
   "version": "3.13.5"
  },
  "papermill": {
   "default_parameters": {},
   "duration": 29.581829,
   "end_time": "2024-02-02T05:33:55.051975",
   "environment_variables": {},
   "exception": null,
   "input_path": "__notebook__.ipynb",
   "output_path": "__notebook__.ipynb",
   "parameters": {},
   "start_time": "2024-02-02T05:33:25.470146",
   "version": "2.4.0"
  }
 },
 "nbformat": 4,
 "nbformat_minor": 5
}
