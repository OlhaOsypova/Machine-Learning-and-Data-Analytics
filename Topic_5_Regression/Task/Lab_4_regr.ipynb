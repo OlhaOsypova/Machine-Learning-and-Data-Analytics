{
  "cells": [
    {
      "cell_type": "markdown",
      "id": "e797a0af",
      "metadata": {
        "id": "e797a0af"
      },
      "source": [
        "## ЛР 4. Алгорими регресії із використанням бібліотеки sklearn"
      ]
    },
    {
      "cell_type": "markdown",
      "id": "6b4a006d",
      "metadata": {
        "id": "6b4a006d"
      },
      "source": [
        "Енергетична компанія проводить дослідження, чому деякі домогосподарства платять більше за електроенергію, а деякі — менше, і навчитися прогнозувати розмір рахунку для нових клієнтів.  \n",
        "  \n",
        "У вас є:  \n",
        "- історичні дані діючих абонентів у файлі customers.csv  \n",
        "- дані нових абонентів у файлі new_customers.csv   \n",
        "\n",
        "Ваше завдання — провести аналіз даних, побудувати декілька моделей, порівняти їх якість та зробити прогноз для нових абонентів.\n",
        "\n",
        "### На основі даних, наведених в файлі \"customers.csv\"  необхідно:  \n",
        "\n",
        "- Подивитися на датасет. У разі необхідності почистити від пропущених значень та видалити технічні стовпчики.  \n",
        "- Для кращого розуміння даних провести короткий аналіз, а саме:  \n",
        "а) Проаналізуйте розподіл основних кількісних змінних (наприклад, кількість кімнат, площа житла, середній місячний дохід, сума рахунку за електроенергію). Прокоментуйте отримані результати та зробіть висновок, чи є підозрілі аномально великі значення порівняно із типовими значеннями.   \n",
        "б) порівняйте суми рахунків за електроенергію між різними групами абонентів:  \n",
        "міські vs сільські домогосподарства;  \n",
        "квартири vs приватні будинки.  \n",
        "Зробіть короткий висновок: хто в середньому платить більше.\n",
        "в) оцініть розподіл категоріальних змінних:  \n",
        "скільки абонентів мешкає у місті / у селі;  \n",
        "скільки абонентів живе у квартирі / у приватному будинку.  \n",
        "Коротко опишіть структуру вибірки: більшість абонентів — міські чи сільські? більше квартир чи будинків?    \n",
        "- Реалізуйте алгоритми дерева рішень та випадкового лісу, за показниками R2 та  MSE оберіть найкращий алгоритм. Для найкращого алгоритму визначте фактори, які мають найбільший вплив на рахунок за електроенергію.  Отримані результати прокоментуйте.  \n",
        "- В файлі **\"new_customers.csv\"** міститься інформація про 15 нових абонентів. Необхідно спрогнозувати розмір рахунків за електроенергію для нових абонентів (**метод .predict()**)."
      ]
    },
    {
      "cell_type": "code",
      "execution_count": null,
      "id": "48b6314d",
      "metadata": {
        "id": "48b6314d",
        "outputId": "e0282ed2-58af-41de-fe63-095c844bfb64"
      },
      "outputs": [
        {
          "data": {
            "text/html": [
              "<div>\n",
              "<style scoped>\n",
              "    .dataframe tbody tr th:only-of-type {\n",
              "        vertical-align: middle;\n",
              "    }\n",
              "\n",
              "    .dataframe tbody tr th {\n",
              "        vertical-align: top;\n",
              "    }\n",
              "\n",
              "    .dataframe thead th {\n",
              "        text-align: right;\n",
              "    }\n",
              "</style>\n",
              "<table border=\"1\" class=\"dataframe\">\n",
              "  <thead>\n",
              "    <tr style=\"text-align: right;\">\n",
              "      <th></th>\n",
              "      <th>Unnamed: 0</th>\n",
              "      <th>num_rooms</th>\n",
              "      <th>num_people</th>\n",
              "      <th>housearea</th>\n",
              "      <th>is_ac</th>\n",
              "      <th>is_tv</th>\n",
              "      <th>is_flat</th>\n",
              "      <th>ave_monthly_income</th>\n",
              "      <th>num_children</th>\n",
              "      <th>is_urban</th>\n",
              "      <th>amount_paid</th>\n",
              "    </tr>\n",
              "  </thead>\n",
              "  <tbody>\n",
              "    <tr>\n",
              "      <th>0</th>\n",
              "      <td>0</td>\n",
              "      <td>3</td>\n",
              "      <td>3</td>\n",
              "      <td>742.57</td>\n",
              "      <td>1</td>\n",
              "      <td>1</td>\n",
              "      <td>1</td>\n",
              "      <td>9675.93</td>\n",
              "      <td>2</td>\n",
              "      <td>urban</td>\n",
              "      <td>560.481447</td>\n",
              "    </tr>\n",
              "    <tr>\n",
              "      <th>1</th>\n",
              "      <td>1</td>\n",
              "      <td>1</td>\n",
              "      <td>5</td>\n",
              "      <td>952.99</td>\n",
              "      <td>0</td>\n",
              "      <td>1</td>\n",
              "      <td>0</td>\n",
              "      <td>35064.79</td>\n",
              "      <td>1</td>\n",
              "      <td>rural</td>\n",
              "      <td>633.283679</td>\n",
              "    </tr>\n",
              "    <tr>\n",
              "      <th>2</th>\n",
              "      <td>2</td>\n",
              "      <td>3</td>\n",
              "      <td>1</td>\n",
              "      <td>761.44</td>\n",
              "      <td>1</td>\n",
              "      <td>1</td>\n",
              "      <td>1</td>\n",
              "      <td>22292.44</td>\n",
              "      <td>0</td>\n",
              "      <td>urban</td>\n",
              "      <td>511.879157</td>\n",
              "    </tr>\n",
              "    <tr>\n",
              "      <th>3</th>\n",
              "      <td>3</td>\n",
              "      <td>0</td>\n",
              "      <td>5</td>\n",
              "      <td>861.32</td>\n",
              "      <td>1</td>\n",
              "      <td>1</td>\n",
              "      <td>0</td>\n",
              "      <td>12139.08</td>\n",
              "      <td>0</td>\n",
              "      <td>urban</td>\n",
              "      <td>332.992035</td>\n",
              "    </tr>\n",
              "    <tr>\n",
              "      <th>4</th>\n",
              "      <td>4</td>\n",
              "      <td>1</td>\n",
              "      <td>8</td>\n",
              "      <td>731.61</td>\n",
              "      <td>0</td>\n",
              "      <td>1</td>\n",
              "      <td>0</td>\n",
              "      <td>17230.10</td>\n",
              "      <td>2</td>\n",
              "      <td>rural</td>\n",
              "      <td>658.285625</td>\n",
              "    </tr>\n",
              "  </tbody>\n",
              "</table>\n",
              "</div>"
            ],
            "text/plain": [
              "   Unnamed: 0  num_rooms  num_people  housearea  is_ac  is_tv  is_flat  \\\n",
              "0           0          3           3     742.57      1      1        1   \n",
              "1           1          1           5     952.99      0      1        0   \n",
              "2           2          3           1     761.44      1      1        1   \n",
              "3           3          0           5     861.32      1      1        0   \n",
              "4           4          1           8     731.61      0      1        0   \n",
              "\n",
              "   ave_monthly_income  num_children is_urban  amount_paid  \n",
              "0             9675.93             2    urban   560.481447  \n",
              "1            35064.79             1    rural   633.283679  \n",
              "2            22292.44             0    urban   511.879157  \n",
              "3            12139.08             0    urban   332.992035  \n",
              "4            17230.10             2    rural   658.285625  "
            ]
          },
          "execution_count": 1,
          "metadata": {},
          "output_type": "execute_result"
        }
      ],
      "source": [
        "import pandas as pd\n",
        "df = pd.read_csv('customers.csv')\n",
        "df.head()"
      ]
    },
    {
      "cell_type": "markdown",
      "id": "ef2f0eab",
      "metadata": {
        "id": "ef2f0eab"
      },
      "source": [
        "Датафрейм містить інформацію щодо розміру рахунків за електроенергію (amount_paid) та факторів, що на нього впливають.\n",
        "Стовпчики:  \n",
        "1. кількість кімнат  \n",
        "2. кількість мешканців  \n",
        "3. площа житла  \n",
        "4. наявність кондиціонеру  \n",
        "5. наявність телевізора  \n",
        "6. тип помешкання: квартира/приватний будинок  \n",
        "7. місячний дохід  \n",
        "8. кількість дітей  \n",
        "9. місцевість: місто/сільська місцевість  \n",
        "10. рахунок за електроенергію"
      ]
    },
    {
      "cell_type": "code",
      "execution_count": null,
      "id": "9fb714af",
      "metadata": {
        "id": "9fb714af"
      },
      "outputs": [],
      "source": []
    }
  ],
  "metadata": {
    "kernelspec": {
      "display_name": "Python 3 (ipykernel)",
      "language": "python",
      "name": "python3"
    },
    "language_info": {
      "codemirror_mode": {
        "name": "ipython",
        "version": 3
      },
      "file_extension": ".py",
      "mimetype": "text/x-python",
      "name": "python",
      "nbconvert_exporter": "python",
      "pygments_lexer": "ipython3",
      "version": "3.11.5"
    },
    "colab": {
      "provenance": []
    }
  },
  "nbformat": 4,
  "nbformat_minor": 5
}